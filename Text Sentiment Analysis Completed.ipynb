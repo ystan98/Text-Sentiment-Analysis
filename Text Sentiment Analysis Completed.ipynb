{
 "cells": [
  {
   "cell_type": "markdown",
   "id": "1dcb6f35",
   "metadata": {},
   "source": [
    "## Content Page:\n",
    "* [Exploratory Data Analysis](#first-bullet)\n",
    "* [Text Pre-processing and Preparation](#second-bullet)\n",
    "* [Model Training Section](#third-bullet)\n",
    "    * [Naive Bayes](#forth-bullet)\n",
    "    * [Logistic Regression](#fifth-bullet)\n",
    "    * [Fine Tune Logistic Regression OVR and Multinomial (OVR and Multimonial)](#sixth-bullet)\n",
    "        * [Fine Tune Logistic Regression OVR](#seventh-bullet)\n",
    "        * [Fine Tune Logistic Regression Multinomial](#eight-bullet)\n",
    "        * [Best Logistic Regression Model](#nineth-bullet)\n",
    "    * [KNN Classifier](#tenth-bullet)\n",
    "    * [Linear SVC](#eleventh-bullet)\n",
    "    * [Fine Tuning Linear SVC with GridSearchCV](#12-bullet)\n",
    "* [Ensemble Methods](#ensemble-bullet)\n",
    "    * [ADA Boost with logistic regression (best LR from earlier)](#13-bullet)\n",
    "    * [ADA Boost with Naive Bayes](#14-bullet)\n",
    "    * [ADA Boost with best Linear SVC](#15-bullet)\n",
    "    * [Random Forest Classifier](#16-bullet)\n",
    "    * [Gradient Boosting Classifier](#17-bullet)\n",
    "    * [Voting Classifier](#18-bullet)\n",
    "* [Model Selection](#19-bullet)\n",
    "* [Test on new random data](#20-bullet)\n"
   ]
  },
  {
   "cell_type": "code",
   "execution_count": 1,
   "id": "171870e4",
   "metadata": {},
   "outputs": [],
   "source": [
    "# #install relevant libraries\n",
    "# !pip install -q transformers\n",
    "# !pip3 install torch torchvision torchaudio"
   ]
  },
  {
   "cell_type": "code",
   "execution_count": 2,
   "id": "69b7ad86",
   "metadata": {},
   "outputs": [],
   "source": [
    "# # from transformers import pipeline\n",
    "# # sentiment_pipeline = pipeline(model=\"cardiffnlp/twitter-roberta-base-sentiment\")\n",
    "# sentiment_pipeline(data)"
   ]
  },
  {
   "cell_type": "markdown",
   "id": "87a946fb",
   "metadata": {},
   "source": [
    "## Exploratory Data Analysis <a class=\"anchor\" id=\"first-bullet\"></a>"
   ]
  },
  {
   "cell_type": "code",
   "execution_count": 1,
   "id": "98282c30",
   "metadata": {},
   "outputs": [],
   "source": [
    "from mpl_toolkits.mplot3d import Axes3D\n",
    "from sklearn.preprocessing import StandardScaler\n",
    "import matplotlib.pyplot as plt # plotting\n",
    "from collections import defaultdict\n",
    "import numpy as np # linear algebra\n",
    "import os # accessing directory structure\n",
    "import pandas as pd # data processing, CSV file I/O (e.g. pd.read_csv)\n",
    "import seaborn as sns\n",
    "import warnings\n",
    "import warnings\n",
    "warnings.filterwarnings('ignore')"
   ]
  },
  {
   "cell_type": "code",
   "execution_count": 2,
   "id": "e660d65d",
   "metadata": {},
   "outputs": [],
   "source": [
    "df = pd.read_csv('tweet_emotions.csv')\n",
    "df2 = pd.read_csv('Emotion_final.csv')\n",
    "df3 = pd.read_csv(\"extra_data.csv\", names=[\"sentiment\", \"id\", 'date',\"query\", \"user\", \"content\"])"
   ]
  },
  {
   "cell_type": "code",
   "execution_count": 3,
   "id": "3e876fb4",
   "metadata": {},
   "outputs": [
    {
     "data": {
      "text/html": [
       "<div>\n",
       "<style scoped>\n",
       "    .dataframe tbody tr th:only-of-type {\n",
       "        vertical-align: middle;\n",
       "    }\n",
       "\n",
       "    .dataframe tbody tr th {\n",
       "        vertical-align: top;\n",
       "    }\n",
       "\n",
       "    .dataframe thead th {\n",
       "        text-align: right;\n",
       "    }\n",
       "</style>\n",
       "<table border=\"1\" class=\"dataframe\">\n",
       "  <thead>\n",
       "    <tr style=\"text-align: right;\">\n",
       "      <th></th>\n",
       "      <th>tweet_id</th>\n",
       "      <th>sentiment</th>\n",
       "      <th>content</th>\n",
       "    </tr>\n",
       "  </thead>\n",
       "  <tbody>\n",
       "    <tr>\n",
       "      <th>0</th>\n",
       "      <td>1956967341</td>\n",
       "      <td>empty</td>\n",
       "      <td>@tiffanylue i know  i was listenin to bad habi...</td>\n",
       "    </tr>\n",
       "    <tr>\n",
       "      <th>1</th>\n",
       "      <td>1956967666</td>\n",
       "      <td>sadness</td>\n",
       "      <td>Layin n bed with a headache  ughhhh...waitin o...</td>\n",
       "    </tr>\n",
       "    <tr>\n",
       "      <th>2</th>\n",
       "      <td>1956967696</td>\n",
       "      <td>sadness</td>\n",
       "      <td>Funeral ceremony...gloomy friday...</td>\n",
       "    </tr>\n",
       "    <tr>\n",
       "      <th>3</th>\n",
       "      <td>1956967789</td>\n",
       "      <td>enthusiasm</td>\n",
       "      <td>wants to hang out with friends SOON!</td>\n",
       "    </tr>\n",
       "    <tr>\n",
       "      <th>4</th>\n",
       "      <td>1956968416</td>\n",
       "      <td>neutral</td>\n",
       "      <td>@dannycastillo We want to trade with someone w...</td>\n",
       "    </tr>\n",
       "  </tbody>\n",
       "</table>\n",
       "</div>"
      ],
      "text/plain": [
       "     tweet_id   sentiment                                            content\n",
       "0  1956967341       empty  @tiffanylue i know  i was listenin to bad habi...\n",
       "1  1956967666     sadness  Layin n bed with a headache  ughhhh...waitin o...\n",
       "2  1956967696     sadness                Funeral ceremony...gloomy friday...\n",
       "3  1956967789  enthusiasm               wants to hang out with friends SOON!\n",
       "4  1956968416     neutral  @dannycastillo We want to trade with someone w..."
      ]
     },
     "execution_count": 3,
     "metadata": {},
     "output_type": "execute_result"
    }
   ],
   "source": [
    "df.head()"
   ]
  },
  {
   "cell_type": "code",
   "execution_count": 4,
   "id": "5ed05453",
   "metadata": {},
   "outputs": [
    {
     "data": {
      "text/html": [
       "<div>\n",
       "<style scoped>\n",
       "    .dataframe tbody tr th:only-of-type {\n",
       "        vertical-align: middle;\n",
       "    }\n",
       "\n",
       "    .dataframe tbody tr th {\n",
       "        vertical-align: top;\n",
       "    }\n",
       "\n",
       "    .dataframe thead th {\n",
       "        text-align: right;\n",
       "    }\n",
       "</style>\n",
       "<table border=\"1\" class=\"dataframe\">\n",
       "  <thead>\n",
       "    <tr style=\"text-align: right;\">\n",
       "      <th></th>\n",
       "      <th>Text</th>\n",
       "      <th>Emotion</th>\n",
       "    </tr>\n",
       "  </thead>\n",
       "  <tbody>\n",
       "    <tr>\n",
       "      <th>0</th>\n",
       "      <td>i didnt feel humiliated</td>\n",
       "      <td>sadness</td>\n",
       "    </tr>\n",
       "    <tr>\n",
       "      <th>1</th>\n",
       "      <td>i can go from feeling so hopeless to so damned...</td>\n",
       "      <td>sadness</td>\n",
       "    </tr>\n",
       "    <tr>\n",
       "      <th>2</th>\n",
       "      <td>im grabbing a minute to post i feel greedy wrong</td>\n",
       "      <td>anger</td>\n",
       "    </tr>\n",
       "    <tr>\n",
       "      <th>3</th>\n",
       "      <td>i am ever feeling nostalgic about the fireplac...</td>\n",
       "      <td>love</td>\n",
       "    </tr>\n",
       "    <tr>\n",
       "      <th>4</th>\n",
       "      <td>i am feeling grouchy</td>\n",
       "      <td>anger</td>\n",
       "    </tr>\n",
       "  </tbody>\n",
       "</table>\n",
       "</div>"
      ],
      "text/plain": [
       "                                                Text  Emotion\n",
       "0                            i didnt feel humiliated  sadness\n",
       "1  i can go from feeling so hopeless to so damned...  sadness\n",
       "2   im grabbing a minute to post i feel greedy wrong    anger\n",
       "3  i am ever feeling nostalgic about the fireplac...     love\n",
       "4                               i am feeling grouchy    anger"
      ]
     },
     "execution_count": 4,
     "metadata": {},
     "output_type": "execute_result"
    }
   ],
   "source": [
    "df2.head()"
   ]
  },
  {
   "cell_type": "code",
   "execution_count": 5,
   "id": "a445f826",
   "metadata": {},
   "outputs": [
    {
     "data": {
      "text/html": [
       "<div>\n",
       "<style scoped>\n",
       "    .dataframe tbody tr th:only-of-type {\n",
       "        vertical-align: middle;\n",
       "    }\n",
       "\n",
       "    .dataframe tbody tr th {\n",
       "        vertical-align: top;\n",
       "    }\n",
       "\n",
       "    .dataframe thead th {\n",
       "        text-align: right;\n",
       "    }\n",
       "</style>\n",
       "<table border=\"1\" class=\"dataframe\">\n",
       "  <thead>\n",
       "    <tr style=\"text-align: right;\">\n",
       "      <th></th>\n",
       "      <th>sentiment</th>\n",
       "      <th>id</th>\n",
       "      <th>date</th>\n",
       "      <th>query</th>\n",
       "      <th>user</th>\n",
       "      <th>content</th>\n",
       "    </tr>\n",
       "  </thead>\n",
       "  <tbody>\n",
       "    <tr>\n",
       "      <th>0</th>\n",
       "      <td>4</td>\n",
       "      <td>3</td>\n",
       "      <td>Mon May 11 03:17:40 UTC 2009</td>\n",
       "      <td>kindle2</td>\n",
       "      <td>tpryan</td>\n",
       "      <td>@stellargirl I loooooooovvvvvveee my Kindle2. ...</td>\n",
       "    </tr>\n",
       "    <tr>\n",
       "      <th>1</th>\n",
       "      <td>4</td>\n",
       "      <td>4</td>\n",
       "      <td>Mon May 11 03:18:03 UTC 2009</td>\n",
       "      <td>kindle2</td>\n",
       "      <td>vcu451</td>\n",
       "      <td>Reading my kindle2...  Love it... Lee childs i...</td>\n",
       "    </tr>\n",
       "    <tr>\n",
       "      <th>2</th>\n",
       "      <td>4</td>\n",
       "      <td>5</td>\n",
       "      <td>Mon May 11 03:18:54 UTC 2009</td>\n",
       "      <td>kindle2</td>\n",
       "      <td>chadfu</td>\n",
       "      <td>Ok, first assesment of the #kindle2 ...it fuck...</td>\n",
       "    </tr>\n",
       "    <tr>\n",
       "      <th>3</th>\n",
       "      <td>4</td>\n",
       "      <td>6</td>\n",
       "      <td>Mon May 11 03:19:04 UTC 2009</td>\n",
       "      <td>kindle2</td>\n",
       "      <td>SIX15</td>\n",
       "      <td>@kenburbary You'll love your Kindle2. I've had...</td>\n",
       "    </tr>\n",
       "    <tr>\n",
       "      <th>4</th>\n",
       "      <td>4</td>\n",
       "      <td>7</td>\n",
       "      <td>Mon May 11 03:21:41 UTC 2009</td>\n",
       "      <td>kindle2</td>\n",
       "      <td>yamarama</td>\n",
       "      <td>@mikefish  Fair enough. But i have the Kindle2...</td>\n",
       "    </tr>\n",
       "  </tbody>\n",
       "</table>\n",
       "</div>"
      ],
      "text/plain": [
       "   sentiment  id                          date    query      user  \\\n",
       "0          4   3  Mon May 11 03:17:40 UTC 2009  kindle2    tpryan   \n",
       "1          4   4  Mon May 11 03:18:03 UTC 2009  kindle2    vcu451   \n",
       "2          4   5  Mon May 11 03:18:54 UTC 2009  kindle2    chadfu   \n",
       "3          4   6  Mon May 11 03:19:04 UTC 2009  kindle2     SIX15   \n",
       "4          4   7  Mon May 11 03:21:41 UTC 2009  kindle2  yamarama   \n",
       "\n",
       "                                             content  \n",
       "0  @stellargirl I loooooooovvvvvveee my Kindle2. ...  \n",
       "1  Reading my kindle2...  Love it... Lee childs i...  \n",
       "2  Ok, first assesment of the #kindle2 ...it fuck...  \n",
       "3  @kenburbary You'll love your Kindle2. I've had...  \n",
       "4  @mikefish  Fair enough. But i have the Kindle2...  "
      ]
     },
     "execution_count": 5,
     "metadata": {},
     "output_type": "execute_result"
    }
   ],
   "source": [
    "df3.head()"
   ]
  },
  {
   "cell_type": "code",
   "execution_count": 6,
   "id": "4810548f",
   "metadata": {},
   "outputs": [
    {
     "data": {
      "text/plain": [
       "tweet_id     0\n",
       "sentiment    0\n",
       "content      0\n",
       "dtype: int64"
      ]
     },
     "execution_count": 6,
     "metadata": {},
     "output_type": "execute_result"
    }
   ],
   "source": [
    "df.isnull().sum()"
   ]
  },
  {
   "cell_type": "code",
   "execution_count": 7,
   "id": "ab48a1ac",
   "metadata": {},
   "outputs": [
    {
     "data": {
      "text/plain": [
       "Text       0\n",
       "Emotion    0\n",
       "dtype: int64"
      ]
     },
     "execution_count": 7,
     "metadata": {},
     "output_type": "execute_result"
    }
   ],
   "source": [
    "df2.isnull().sum()"
   ]
  },
  {
   "cell_type": "code",
   "execution_count": 8,
   "id": "e3ada0be",
   "metadata": {},
   "outputs": [
    {
     "data": {
      "text/plain": [
       "sentiment    0\n",
       "id           0\n",
       "date         0\n",
       "query        0\n",
       "user         0\n",
       "content      0\n",
       "dtype: int64"
      ]
     },
     "execution_count": 8,
     "metadata": {},
     "output_type": "execute_result"
    }
   ],
   "source": [
    "df3.isnull().sum()"
   ]
  },
  {
   "cell_type": "code",
   "execution_count": 9,
   "id": "70034feb",
   "metadata": {},
   "outputs": [
    {
     "data": {
      "text/plain": [
       "array(['empty', 'sadness', 'enthusiasm', 'neutral', 'worry', 'surprise',\n",
       "       'love', 'fun', 'hate', 'happiness', 'boredom', 'relief', 'anger'],\n",
       "      dtype=object)"
      ]
     },
     "execution_count": 9,
     "metadata": {},
     "output_type": "execute_result"
    }
   ],
   "source": [
    "df.sentiment.unique()"
   ]
  },
  {
   "cell_type": "code",
   "execution_count": 10,
   "id": "d8157d7a",
   "metadata": {},
   "outputs": [
    {
     "data": {
      "text/plain": [
       "array(['sadness', 'anger', 'love', 'surprise', 'fear', 'happy'],\n",
       "      dtype=object)"
      ]
     },
     "execution_count": 10,
     "metadata": {},
     "output_type": "execute_result"
    }
   ],
   "source": [
    "df2.Emotion.unique()"
   ]
  },
  {
   "cell_type": "code",
   "execution_count": 11,
   "id": "e19088a0",
   "metadata": {},
   "outputs": [
    {
     "data": {
      "text/plain": [
       "array([4, 0, 2], dtype=int64)"
      ]
     },
     "execution_count": 11,
     "metadata": {},
     "output_type": "execute_result"
    }
   ],
   "source": [
    "df3.sentiment.unique()"
   ]
  },
  {
   "cell_type": "code",
   "execution_count": 12,
   "id": "41eedd05",
   "metadata": {},
   "outputs": [],
   "source": [
    "def sentiments_df3(val):\n",
    "    if val==0:\n",
    "        return 'negative'\n",
    "    elif val == 2:\n",
    "        return 'neutral'\n",
    "    elif val==4:\n",
    "        return 'positive'"
   ]
  },
  {
   "cell_type": "code",
   "execution_count": 13,
   "id": "4f5a20d7",
   "metadata": {},
   "outputs": [],
   "source": [
    "# (0 = negative, 2 = neutral, 4 = positive) based on dataset provider\n",
    "df3['sentiment'] = df3['sentiment'].apply(sentiments_df3)"
   ]
  },
  {
   "cell_type": "code",
   "execution_count": 14,
   "id": "e074d4d0",
   "metadata": {},
   "outputs": [
    {
     "data": {
      "text/plain": [
       "array(['positive', 'negative', 'neutral'], dtype=object)"
      ]
     },
     "execution_count": 14,
     "metadata": {},
     "output_type": "execute_result"
    }
   ],
   "source": [
    "df3.sentiment.unique()"
   ]
  },
  {
   "cell_type": "code",
   "execution_count": 15,
   "id": "45ce2792",
   "metadata": {},
   "outputs": [],
   "source": [
    "df3.drop(['id','date','query','user'], axis=1, inplace=True)"
   ]
  },
  {
   "cell_type": "code",
   "execution_count": 16,
   "id": "66aba275",
   "metadata": {},
   "outputs": [],
   "source": [
    "#drop surprise and neutral sentiments\n",
    "df.drop(df.loc[df['sentiment'] == 'surprise'].index, inplace=True)\n",
    "df2.drop(df2.loc[df2['Emotion'] == 'surprise'].index, inplace=True)\n",
    "df.drop(df.loc[df['sentiment'] == 'neutral'].index, inplace=True)\n",
    "df2.drop(df2.loc[df2['Emotion'] == 'neutral'].index, inplace=True)\n",
    "df3.drop(df3.loc[df3['sentiment'] == 'neutral'].index, inplace=True)"
   ]
  },
  {
   "cell_type": "code",
   "execution_count": 17,
   "id": "59e58837",
   "metadata": {},
   "outputs": [],
   "source": [
    "df2.rename(columns={\"Emotion\": \"sentiment\"}, inplace=True)\n",
    "df2.rename(columns={\"Text\": \"content\"}, inplace=True)"
   ]
  },
  {
   "cell_type": "code",
   "execution_count": 18,
   "id": "1c973ee4",
   "metadata": {},
   "outputs": [],
   "source": [
    "merged_df = pd.concat([df, df2,df3])\n",
    "merged_df.drop('tweet_id', axis=1, inplace=True)"
   ]
  },
  {
   "cell_type": "code",
   "execution_count": 19,
   "id": "1862fb00",
   "metadata": {},
   "outputs": [
    {
     "data": {
      "text/html": [
       "<div>\n",
       "<style scoped>\n",
       "    .dataframe tbody tr th:only-of-type {\n",
       "        vertical-align: middle;\n",
       "    }\n",
       "\n",
       "    .dataframe tbody tr th {\n",
       "        vertical-align: top;\n",
       "    }\n",
       "\n",
       "    .dataframe thead th {\n",
       "        text-align: right;\n",
       "    }\n",
       "</style>\n",
       "<table border=\"1\" class=\"dataframe\">\n",
       "  <thead>\n",
       "    <tr style=\"text-align: right;\">\n",
       "      <th></th>\n",
       "      <th>content</th>\n",
       "    </tr>\n",
       "    <tr>\n",
       "      <th>sentiment</th>\n",
       "      <th></th>\n",
       "    </tr>\n",
       "  </thead>\n",
       "  <tbody>\n",
       "    <tr>\n",
       "      <th>anger</th>\n",
       "      <td>3103</td>\n",
       "    </tr>\n",
       "    <tr>\n",
       "      <th>boredom</th>\n",
       "      <td>179</td>\n",
       "    </tr>\n",
       "    <tr>\n",
       "      <th>empty</th>\n",
       "      <td>827</td>\n",
       "    </tr>\n",
       "    <tr>\n",
       "      <th>enthusiasm</th>\n",
       "      <td>759</td>\n",
       "    </tr>\n",
       "    <tr>\n",
       "      <th>fear</th>\n",
       "      <td>2652</td>\n",
       "    </tr>\n",
       "    <tr>\n",
       "      <th>fun</th>\n",
       "      <td>1776</td>\n",
       "    </tr>\n",
       "    <tr>\n",
       "      <th>happiness</th>\n",
       "      <td>5209</td>\n",
       "    </tr>\n",
       "    <tr>\n",
       "      <th>happy</th>\n",
       "      <td>7029</td>\n",
       "    </tr>\n",
       "    <tr>\n",
       "      <th>hate</th>\n",
       "      <td>1323</td>\n",
       "    </tr>\n",
       "    <tr>\n",
       "      <th>love</th>\n",
       "      <td>5483</td>\n",
       "    </tr>\n",
       "    <tr>\n",
       "      <th>negative</th>\n",
       "      <td>177</td>\n",
       "    </tr>\n",
       "    <tr>\n",
       "      <th>positive</th>\n",
       "      <td>182</td>\n",
       "    </tr>\n",
       "    <tr>\n",
       "      <th>relief</th>\n",
       "      <td>1526</td>\n",
       "    </tr>\n",
       "    <tr>\n",
       "      <th>sadness</th>\n",
       "      <td>11430</td>\n",
       "    </tr>\n",
       "    <tr>\n",
       "      <th>worry</th>\n",
       "      <td>8459</td>\n",
       "    </tr>\n",
       "  </tbody>\n",
       "</table>\n",
       "</div>"
      ],
      "text/plain": [
       "            content\n",
       "sentiment          \n",
       "anger          3103\n",
       "boredom         179\n",
       "empty           827\n",
       "enthusiasm      759\n",
       "fear           2652\n",
       "fun            1776\n",
       "happiness      5209\n",
       "happy          7029\n",
       "hate           1323\n",
       "love           5483\n",
       "negative        177\n",
       "positive        182\n",
       "relief         1526\n",
       "sadness       11430\n",
       "worry          8459"
      ]
     },
     "execution_count": 19,
     "metadata": {},
     "output_type": "execute_result"
    }
   ],
   "source": [
    "merged_df.groupby('sentiment').count()"
   ]
  },
  {
   "cell_type": "code",
   "execution_count": 55,
   "id": "15494d96",
   "metadata": {},
   "outputs": [
    {
     "data": {
      "image/png": "[encoded data removed]",
      "text/plain": [
       "<Figure size 864x576 with 2 Axes>"
      ]
     },
     "metadata": {
      "needs_background": "light"
     },
     "output_type": "display_data"
    }
   ],
   "source": [
    "col = 'sentiment'\n",
    "fig, (ax1, ax2)  = plt.subplots(nrows=1, ncols=2, figsize=(12,8))\n",
    "explode = list((np.array(list(merged_df[col].dropna().value_counts()))/sum(list(merged_df[col].dropna().value_counts())))[::-1])[:12]\n",
    "labels = list(merged_df[col].dropna().unique())[:12]\n",
    "sizes = merged_df[col].value_counts()[:12]\n",
    "#ax.pie(sizes, explode=explode, colors=bo, startangle=60, labels=labels,autopct='%1.0f%%', pctdistance=0.9)\n",
    "ax2.pie(sizes,  explode=explode, startangle=60, labels=labels,autopct='%1.0f%%', pctdistance=0.9)\n",
    "ax2.add_artist(plt.Circle((0,0),0.6,fc='white'))\n",
    "sns.countplot(y =col, data = merged_df, ax=ax1)\n",
    "ax1.set_title(\"Count of each sentiment\")\n",
    "ax2.set_title(\"Percentage of each sentiment (Top 12)\")\n",
    "plt.show()"
   ]
  },
  {
   "cell_type": "code",
   "execution_count": 56,
   "id": "542151f6",
   "metadata": {},
   "outputs": [],
   "source": [
    "def generalize_sentiment(text):\n",
    "    if text=='love' or text=='positive' or text=='enthusiasm' or text =='surprise' or text=='fun 'or text=='happy' or text == 'happiness' or text=='relief':\n",
    "        return 'positive'\n",
    "    else:\n",
    "        return 'negative'"
   ]
  },
  {
   "cell_type": "code",
   "execution_count": 57,
   "id": "49573a05",
   "metadata": {},
   "outputs": [],
   "source": [
    "merged_df['sentiment'] = merged_df['sentiment'].apply(generalize_sentiment)"
   ]
  },
  {
   "cell_type": "code",
   "execution_count": 58,
   "id": "d17d725a",
   "metadata": {},
   "outputs": [
    {
     "data": {
      "text/plain": [
       "array(['negative', 'positive'], dtype=object)"
      ]
     },
     "execution_count": 58,
     "metadata": {},
     "output_type": "execute_result"
    }
   ],
   "source": [
    "merged_df.sentiment.unique()"
   ]
  },
  {
   "cell_type": "code",
   "execution_count": 59,
   "id": "9c66a85d",
   "metadata": {},
   "outputs": [
    {
     "data": {
      "text/plain": [
       "<AxesSubplot:>"
      ]
     },
     "execution_count": 59,
     "metadata": {},
     "output_type": "execute_result"
    },
    {
     "data": {
      "image/png": "[encoded data removed]",
      "text/plain": [
       "<Figure size 432x288 with 1 Axes>"
      ]
     },
     "metadata": {
      "needs_background": "light"
     },
     "output_type": "display_data"
    }
   ],
   "source": [
    "merged_df['sentiment'].hist()"
   ]
  },
  {
   "cell_type": "code",
   "execution_count": 60,
   "id": "92d0ab54",
   "metadata": {},
   "outputs": [
    {
     "data": {
      "image/png": "[encoded data removed]",
      "text/plain": [
       "<Figure size 432x288 with 1 Axes>"
      ]
     },
     "metadata": {},
     "output_type": "display_data"
    }
   ],
   "source": [
    "merged_df.groupby('sentiment').size().plot(kind='pie', autopct='%.2f%%')\n",
    "plt.title(\"Breakdown of sentiments\")\n",
    "plt.ylabel(\"\")\n",
    "plt.show()"
   ]
  },
  {
   "cell_type": "code",
   "execution_count": 61,
   "id": "d8714a06",
   "metadata": {},
   "outputs": [],
   "source": [
    "merged_df['char_length'] = merged_df['content'].apply(lambda x : len(x))\n",
    "merged_df['token_length'] = merged_df['content'].apply(lambda x : len(x.split(\" \")))"
   ]
  },
  {
   "cell_type": "code",
   "execution_count": 62,
   "id": "bd742e89",
   "metadata": {},
   "outputs": [
    {
     "data": {
      "image/png": "[encoded data removed]",
      "text/plain": [
       "<Figure size 864x432 with 2 Axes>"
      ]
     },
     "metadata": {
      "needs_background": "light"
     },
     "output_type": "display_data"
    }
   ],
   "source": [
    "fig, (ax1, ax2)  = plt.subplots(nrows=1, ncols=2, figsize=(12,6))\n",
    "sns.distplot(merged_df['char_length'], ax=ax1)\n",
    "sns.distplot(merged_df['token_length'], ax=ax2)\n",
    "ax1.set_title('Number of characters in the text/content')\n",
    "ax2.set_title('Number of token(words) in the text/content')\n",
    "plt.show()"
   ]
  },
  {
   "cell_type": "code",
   "execution_count": 63,
   "id": "117ff4d3",
   "metadata": {},
   "outputs": [],
   "source": [
    "avg_df = merged_df.groupby('sentiment').agg({'char_length':'mean', 'token_length':'mean'})"
   ]
  },
  {
   "cell_type": "code",
   "execution_count": 64,
   "id": "847cc413",
   "metadata": {},
   "outputs": [
    {
     "data": {
      "image/png": "[encoded data removed]",
      "text/plain": [
       "<Figure size 1152x432 with 2 Axes>"
      ]
     },
     "metadata": {
      "needs_background": "light"
     },
     "output_type": "display_data"
    }
   ],
   "source": [
    "fig, (ax1, ax2)  = plt.subplots(nrows=1, ncols=2, figsize=(16,6))\n",
    "ax1.bar(avg_df.index, avg_df['char_length'])\n",
    "ax2.bar(avg_df.index, avg_df['token_length'], color='green')\n",
    "ax1.set_title('Avg number of characters')\n",
    "ax2.set_title('Avg number of token(words)')\n",
    "ax1.set_xticklabels(avg_df.index, rotation = 45)\n",
    "ax2.set_xticklabels(avg_df.index, rotation = 45)\n",
    "plt.show()"
   ]
  },
  {
   "cell_type": "markdown",
   "id": "796ed36a",
   "metadata": {},
   "source": [
    "## Text Pre Processing and Preparation <a class=\"anchor\" id=\"second-bullet\"></a>"
   ]
  },
  {
   "cell_type": "code",
   "execution_count": 30,
   "id": "94051840",
   "metadata": {},
   "outputs": [],
   "source": [
    "# !pip install spacy\n",
    "# pip install typing-extensions --upgrade\n",
    "# !pip install nltk\n",
    "# !pip install inflect\n",
    "# !pip install contractions"
   ]
  },
  {
   "cell_type": "code",
   "execution_count": 65,
   "id": "322b7bc4",
   "metadata": {},
   "outputs": [],
   "source": [
    "import nltk"
   ]
  },
  {
   "cell_type": "code",
   "execution_count": 32,
   "id": "b120954d",
   "metadata": {},
   "outputs": [],
   "source": [
    "\n",
    "\n",
    "# nltk.download('all')\n",
    "# nltk.download('wordnet')\n"
   ]
  },
  {
   "cell_type": "code",
   "execution_count": 66,
   "id": "a41e8446",
   "metadata": {},
   "outputs": [],
   "source": [
    "# Data preparation and text-preprocessing\n",
    "from sklearn.preprocessing import LabelEncoder\n",
    "from sklearn.model_selection import train_test_split\n",
    "import nltk\n",
    "import inflect\n",
    "import contractions\n",
    "from bs4 import BeautifulSoup\n",
    "import re, string, unicodedata\n",
    "from nltk import word_tokenize, sent_tokenize\n",
    "from nltk.corpus import stopwords\n",
    "# from nltk.stem import LancasterStemmer, WordNetLemmatizerb\n",
    "# from nltk.stem import WordNetLemmatizerd\n",
    "import re\n",
    "import nltk\n",
    "import string\n",
    "import spacy"
   ]
  },
  {
   "cell_type": "code",
   "execution_count": 34,
   "id": "4096b503",
   "metadata": {},
   "outputs": [],
   "source": [
    "import nltk\n",
    "from nltk.corpus import wordnet as wn\n",
    "from nltk.stem.wordnet import WordNetLemmatizer"
   ]
  },
  {
   "cell_type": "code",
   "execution_count": 35,
   "id": "1ec0bb3d",
   "metadata": {},
   "outputs": [],
   "source": [
    "#### text preprocessing\n",
    "\n",
    "def text_preprocessing_platform(df, text_col, remove_stopwords=True):\n",
    "    \n",
    "    ## Define functions for individual steps\n",
    "    # First function is used to denoise text\n",
    "    def denoise_text(text):\n",
    "        # Strip html if any. For ex. removing <html>, <p> tags\n",
    "        soup = BeautifulSoup(text, \"html.parser\")\n",
    "        text = soup.get_text()\n",
    "        # Replace contractions in the text. For ex. didn't -> did not\n",
    "        text = contractions.fix(text)\n",
    "        return text\n",
    "    \n",
    "    ## Next step is text-normalization\n",
    "    \n",
    "    # Text normalization includes many steps.\n",
    "    \n",
    "    # Each function below serves a step.\n",
    "    \n",
    "    \n",
    "    def remove_non_ascii(words):\n",
    "        \"\"\"Remove non-ASCII characters from list of tokenized words\"\"\"\n",
    "        new_words = []\n",
    "        for word in words:\n",
    "            new_word = unicodedata.normalize('NFKD', word).encode('ascii', 'ignore').decode('utf-8', 'ignore')\n",
    "            new_words.append(new_word)\n",
    "        return new_words\n",
    "    \n",
    "    \n",
    "    def to_lowercase(words):\n",
    "        \"\"\"Convert all characters to lowercase from list of tokenized words\"\"\"\n",
    "        new_words = []\n",
    "        for word in words:\n",
    "            new_word = word.lower()\n",
    "            new_words.append(new_word)\n",
    "        return new_words\n",
    "    \n",
    "    \n",
    "    def remove_punctuation(words):\n",
    "        \"\"\"Remove punctuation from list of tokenized words\"\"\"\n",
    "        new_words = []\n",
    "        for word in words:\n",
    "            new_word = re.sub(r'[^\\w\\s]', '', word)\n",
    "            if new_word != '':\n",
    "                new_words.append(new_word)\n",
    "        return new_words\n",
    "    \n",
    "    \n",
    "    def replace_numbers(words):\n",
    "        \"\"\"Replace all interger occurrences in list of tokenized words with textual representation\"\"\"\n",
    "        p = inflect.engine()\n",
    "        new_words = []\n",
    "        for word in words:\n",
    "            if word.isdigit():\n",
    "                new_word = p.number_to_words(word)\n",
    "                new_words.append(new_word)\n",
    "            else:\n",
    "                new_words.append(word)\n",
    "        return new_words\n",
    "    \n",
    "    \n",
    "    def remove_stopwords(words):\n",
    "        \"\"\"Remove stop words from list of tokenized words\"\"\"\n",
    "        new_words = []\n",
    "        for word in words:\n",
    "            if word not in stopwords.words('english'):\n",
    "                new_words.append(word)\n",
    "        return new_words\n",
    "    \n",
    "    \n",
    "    def stem_words(words):\n",
    "        \"\"\"Stem words in list of tokenized words\"\"\"\n",
    "        stemmer = LancasterStemmer()\n",
    "        stems = []\n",
    "        for word in words:\n",
    "            stem = stemmer.stem(word)\n",
    "            stems.append(stem)\n",
    "        return stems\n",
    "    \n",
    "    \n",
    "    def lemmatize_verbs(words):\n",
    "        \"\"\"Lemmatize verbs in list of tokenized words\"\"\"\n",
    "        lemmatizer = WordNetLemmatizer()\n",
    "        lemmas = []\n",
    "        for word in words:\n",
    "            lemma = lemmatizer.lemmatize(word, pos='v')\n",
    "            lemmas.append(lemma)\n",
    "        return lemmas\n",
    "    \n",
    "    \n",
    "    ### A wrap-up function for normalization\n",
    "    def normalize_text(words, remove_stopwords):\n",
    "        words = remove_non_ascii(words)\n",
    "        words = to_lowercase(words)\n",
    "        words = remove_punctuation(words)\n",
    "        words = replace_numbers(words)\n",
    "        if remove_stopwords:\n",
    "            words = remove_stopwords(words)\n",
    "        #words = stem_words(words)\n",
    "        words = lemmatize_verbs(words)\n",
    "        return words\n",
    "    \n",
    "    # All above functions work on word tokens we need a tokenizer\n",
    "    \n",
    "    # Tokenize tweet into words\n",
    "    def tokenize(text):\n",
    "        return nltk.word_tokenize(text)\n",
    "    \n",
    "    \n",
    "    # A overall wrap-up function\n",
    "    def text_prepare(text):\n",
    "        text = denoise_text(text)\n",
    "        text = ' '.join([x for x in normalize_text(tokenize(text), remove_stopwords)])\n",
    "        return text\n",
    "    \n",
    "    # run every-step\n",
    "    df[text_col] = [text_prepare(x) for x in df[text_col]]\n",
    "    \n",
    "    \n",
    "    # return processed df\n",
    "    return df"
   ]
  },
  {
   "cell_type": "code",
   "execution_count": 36,
   "id": "6b80012d",
   "metadata": {},
   "outputs": [
    {
     "name": "stdout",
     "output_type": "stream",
     "text": [
      "Before Text Preprocessing\n"
     ]
    },
    {
     "data": {
      "text/html": [
       "<div>\n",
       "<style scoped>\n",
       "    .dataframe tbody tr th:only-of-type {\n",
       "        vertical-align: middle;\n",
       "    }\n",
       "\n",
       "    .dataframe tbody tr th {\n",
       "        vertical-align: top;\n",
       "    }\n",
       "\n",
       "    .dataframe thead th {\n",
       "        text-align: right;\n",
       "    }\n",
       "</style>\n",
       "<table border=\"1\" class=\"dataframe\">\n",
       "  <thead>\n",
       "    <tr style=\"text-align: right;\">\n",
       "      <th></th>\n",
       "      <th>content</th>\n",
       "    </tr>\n",
       "  </thead>\n",
       "  <tbody>\n",
       "    <tr>\n",
       "      <th>0</th>\n",
       "      <td>@tiffanylue i know  i was listenin to bad habi...</td>\n",
       "    </tr>\n",
       "    <tr>\n",
       "      <th>1</th>\n",
       "      <td>Layin n bed with a headache  ughhhh...waitin o...</td>\n",
       "    </tr>\n",
       "    <tr>\n",
       "      <th>2</th>\n",
       "      <td>Funeral ceremony...gloomy friday...</td>\n",
       "    </tr>\n",
       "    <tr>\n",
       "      <th>3</th>\n",
       "      <td>wants to hang out with friends SOON!</td>\n",
       "    </tr>\n",
       "    <tr>\n",
       "      <th>5</th>\n",
       "      <td>Re-pinging @ghostridah14: why didn't you go to...</td>\n",
       "    </tr>\n",
       "  </tbody>\n",
       "</table>\n",
       "</div>"
      ],
      "text/plain": [
       "                                             content\n",
       "0  @tiffanylue i know  i was listenin to bad habi...\n",
       "1  Layin n bed with a headache  ughhhh...waitin o...\n",
       "2                Funeral ceremony...gloomy friday...\n",
       "3               wants to hang out with friends SOON!\n",
       "5  Re-pinging @ghostridah14: why didn't you go to..."
      ]
     },
     "metadata": {},
     "output_type": "display_data"
    },
    {
     "name": "stderr",
     "output_type": "stream",
     "text": [
      "/common/home/projectgrps/IS460/IS460G1/jupyterlab-venv/lib/python3.7/site-packages/bs4/__init__.py:439: MarkupResemblesLocatorWarning: The input looks more like a filename than markup. You may want to open this file and pass the filehandle into Beautiful Soup.\n",
      "  MarkupResemblesLocatorWarning\n"
     ]
    },
    {
     "name": "stdout",
     "output_type": "stream",
     "text": [
      "After Text Preprocessing\n"
     ]
    },
    {
     "data": {
      "text/html": [
       "<div>\n",
       "<style scoped>\n",
       "    .dataframe tbody tr th:only-of-type {\n",
       "        vertical-align: middle;\n",
       "    }\n",
       "\n",
       "    .dataframe tbody tr th {\n",
       "        vertical-align: top;\n",
       "    }\n",
       "\n",
       "    .dataframe thead th {\n",
       "        text-align: right;\n",
       "    }\n",
       "</style>\n",
       "<table border=\"1\" class=\"dataframe\">\n",
       "  <thead>\n",
       "    <tr style=\"text-align: right;\">\n",
       "      <th></th>\n",
       "      <th>content</th>\n",
       "    </tr>\n",
       "  </thead>\n",
       "  <tbody>\n",
       "    <tr>\n",
       "      <th>0</th>\n",
       "      <td>tiffanylue know listenin bad habit earlier sta...</td>\n",
       "    </tr>\n",
       "    <tr>\n",
       "      <th>1</th>\n",
       "      <td>layin n bed headache ughhhh waitin call</td>\n",
       "    </tr>\n",
       "    <tr>\n",
       "      <th>2</th>\n",
       "      <td>funeral ceremony gloomy friday</td>\n",
       "    </tr>\n",
       "    <tr>\n",
       "      <th>3</th>\n",
       "      <td>want hang friends soon</td>\n",
       "    </tr>\n",
       "    <tr>\n",
       "      <th>5</th>\n",
       "      <td>repinging ghostridah14 go prom bf like friends</td>\n",
       "    </tr>\n",
       "  </tbody>\n",
       "</table>\n",
       "</div>"
      ],
      "text/plain": [
       "                                             content\n",
       "0  tiffanylue know listenin bad habit earlier sta...\n",
       "1            layin n bed headache ughhhh waitin call\n",
       "2                     funeral ceremony gloomy friday\n",
       "3                             want hang friends soon\n",
       "5     repinging ghostridah14 go prom bf like friends"
      ]
     },
     "metadata": {},
     "output_type": "display_data"
    }
   ],
   "source": [
    "print(\"Before Text Preprocessing\")\n",
    "display(merged_df.head()[['content']])\n",
    "processed_df = text_preprocessing_platform(merged_df, 'content', remove_stopwords=False)\n",
    "print(\"After Text Preprocessing\")\n",
    "display(processed_df.head()[['content']])"
   ]
  },
  {
   "cell_type": "code",
   "execution_count": 37,
   "id": "9c26d593",
   "metadata": {},
   "outputs": [],
   "source": [
    "# processed_df.tail()"
   ]
  },
  {
   "cell_type": "markdown",
   "id": "08905098",
   "metadata": {},
   "source": [
    "# Prepare for model training (splitting, manual label encoder)"
   ]
  },
  {
   "cell_type": "code",
   "execution_count": 38,
   "id": "5883ef3f",
   "metadata": {},
   "outputs": [],
   "source": [
    "def labelEncode(df):\n",
    "    if df=='positive':\n",
    "        return 0\n",
    "    else:\n",
    "        return 1\n",
    "#0 = positive , 1 = negative"
   ]
  },
  {
   "cell_type": "code",
   "execution_count": 39,
   "id": "0d61800d",
   "metadata": {},
   "outputs": [],
   "source": [
    "y = processed_df['sentiment'].apply(labelEncode)\n",
    "X = processed_df.iloc[:,1:2]"
   ]
  },
  {
   "cell_type": "code",
   "execution_count": 40,
   "id": "bb181158",
   "metadata": {},
   "outputs": [
    {
     "data": {
      "text/plain": [
       "0    1\n",
       "1    1\n",
       "2    1\n",
       "3    0\n",
       "5    1\n",
       "Name: sentiment, dtype: int64"
      ]
     },
     "execution_count": 40,
     "metadata": {},
     "output_type": "execute_result"
    }
   ],
   "source": [
    "y.head()"
   ]
  },
  {
   "cell_type": "code",
   "execution_count": 41,
   "id": "4e90eccb",
   "metadata": {},
   "outputs": [],
   "source": [
    "from sklearn.model_selection import train_test_split\n",
    "X_train,X_test,y_train,y_test = train_test_split(X,y,test_size=0.2,random_state=1)"
   ]
  },
  {
   "cell_type": "code",
   "execution_count": 42,
   "id": "1e8f148a",
   "metadata": {},
   "outputs": [
    {
     "data": {
      "text/plain": [
       "(40091, 1)"
      ]
     },
     "execution_count": 42,
     "metadata": {},
     "output_type": "execute_result"
    }
   ],
   "source": [
    "X_train.shape"
   ]
  },
  {
   "cell_type": "code",
   "execution_count": 43,
   "id": "c369ceb5",
   "metadata": {},
   "outputs": [
    {
     "data": {
      "text/plain": [
       "(10023,)"
      ]
     },
     "execution_count": 43,
     "metadata": {},
     "output_type": "execute_result"
    }
   ],
   "source": [
    "y_test.shape"
   ]
  },
  {
   "cell_type": "code",
   "execution_count": 44,
   "id": "5e60353d",
   "metadata": {},
   "outputs": [],
   "source": [
    "from sklearn.feature_extraction.text import CountVectorizer"
   ]
  },
  {
   "cell_type": "code",
   "execution_count": 45,
   "id": "6cbc6f6f",
   "metadata": {},
   "outputs": [],
   "source": [
    "cv = CountVectorizer()"
   ]
  },
  {
   "cell_type": "code",
   "execution_count": 46,
   "id": "0809af4e",
   "metadata": {},
   "outputs": [],
   "source": [
    "X_train_bow = cv.fit_transform(X_train['content']).toarray()\n",
    "X_test_bow = cv.transform(X_test['content']).toarray()"
   ]
  },
  {
   "cell_type": "code",
   "execution_count": 48,
   "id": "df00c434",
   "metadata": {},
   "outputs": [],
   "source": [
    "import pickle\n",
    "pickle.dump(cv, open(\"cv (selected).pickel\", \"wb\"))"
   ]
  },
  {
   "cell_type": "markdown",
   "id": "1299ce93",
   "metadata": {},
   "source": [
    "## Model Training Section <a class=\"anchor\" id=\"third-bullet\"></a>"
   ]
  },
  {
   "cell_type": "markdown",
   "id": "91f1528a",
   "metadata": {},
   "source": [
    "## Naive Bayes <a class=\"anchor\" id=\"forth-bullet\"></a>"
   ]
  },
  {
   "cell_type": "code",
   "execution_count": 49,
   "id": "81768023",
   "metadata": {},
   "outputs": [
    {
     "data": {
      "text/plain": [
       "(40091, 37127)"
      ]
     },
     "execution_count": 49,
     "metadata": {},
     "output_type": "execute_result"
    }
   ],
   "source": [
    "X_train_bow.shape"
   ]
  },
  {
   "cell_type": "code",
   "execution_count": 50,
   "id": "d2e0d4f7",
   "metadata": {},
   "outputs": [
    {
     "data": {
      "text/plain": [
       "MultinomialNB()"
      ]
     },
     "execution_count": 50,
     "metadata": {},
     "output_type": "execute_result"
    }
   ],
   "source": [
    "from sklearn.naive_bayes import MultinomialNB\n",
    "mnb = MultinomialNB()\n",
    "mnb.fit(X_train_bow,y_train)"
   ]
  },
  {
   "cell_type": "code",
   "execution_count": 51,
   "id": "c7c25db5",
   "metadata": {},
   "outputs": [
    {
     "name": "stdout",
     "output_type": "stream",
     "text": [
      " Accuracy 0.8042502244836875\n",
      " Precision 0.80406852248394 \n",
      " Recall 0.8853149208487706 \n",
      " F1 0.8427380570695736\n"
     ]
    }
   ],
   "source": [
    "y_pred = mnb.predict(X_test_bow)\n",
    "from sklearn.metrics import accuracy_score,confusion_matrix\n",
    "accuracy_score(y_test,y_pred)\n",
    "\n",
    "#Confusion Matrix\n",
    "mnb_tn, mnb_fp, mnb_fn, mnb_tp = confusion_matrix(y_test, y_pred).ravel()\n",
    "\n",
    "#measurements\n",
    "mnb_accuracy = (mnb_tp+mnb_tn)/(mnb_tp+mnb_tn+mnb_fp+mnb_fn)\n",
    "print(\" Accuracy\", mnb_accuracy)\n",
    "mnb_precision = mnb_tp/(mnb_tp+mnb_fp)\n",
    "mnb_recall = mnb_tp/(mnb_tp+mnb_fn)\n",
    "mnb_f1_score = (2*mnb_precision)*(mnb_recall)/(mnb_precision+mnb_recall)\n",
    "print(\" Precision\",mnb_precision,\"\\n\",\"Recall\",mnb_recall,\"\\n\",\"F1\",mnb_f1_score)"
   ]
  },
  {
   "cell_type": "markdown",
   "id": "cc4c70b1",
   "metadata": {},
   "source": [
    "Gentle reminder that we want precision to be high, because if we detect a negative video as positive, the consequences is disastrous. Imagine showing a children a suicide video that was mis-classified as positive."
   ]
  },
  {
   "cell_type": "markdown",
   "id": "e0898591",
   "metadata": {},
   "source": [
    "## Logistic Regression (OVR and Multimonial)  <a class=\"anchor\" id=\"fifth-bullet\"></a>"
   ]
  },
  {
   "cell_type": "code",
   "execution_count": 207,
   "id": "b91c8622",
   "metadata": {},
   "outputs": [
    {
     "name": "stderr",
     "output_type": "stream",
     "text": [
      "/common/home/projectgrps/IS460/IS460G1/jupyterlab-venv/lib/python3.7/site-packages/sklearn/linear_model/_logistic.py:818: ConvergenceWarning: lbfgs failed to converge (status=1):\n",
      "STOP: TOTAL NO. of ITERATIONS REACHED LIMIT.\n",
      "\n",
      "Increase the number of iterations (max_iter) or scale the data as shown in:\n",
      "    https://scikit-learn.org/stable/modules/preprocessing.html\n",
      "Please also refer to the documentation for alternative solver options:\n",
      "    https://scikit-learn.org/stable/modules/linear_model.html#logistic-regression\n",
      "  extra_warning_msg=_LOGISTIC_SOLVER_CONVERGENCE_MSG,\n"
     ]
    },
    {
     "data": {
      "text/plain": [
       "LogisticRegression(C=1, multi_class='ovr')"
      ]
     },
     "execution_count": 207,
     "metadata": {},
     "output_type": "execute_result"
    }
   ],
   "source": [
    "from sklearn.linear_model import LogisticRegression\n",
    "lr = LogisticRegression(multi_class='ovr', C=1)\n",
    "lr.fit(X_train_bow,y_train)"
   ]
  },
  {
   "cell_type": "code",
   "execution_count": 209,
   "id": "29f4a537",
   "metadata": {},
   "outputs": [
    {
     "name": "stdout",
     "output_type": "stream",
     "text": [
      "0.8213109847351092\n",
      " Accuracy 0.8213109847351092\n",
      " Precision 0.8272053021934669 \n",
      " Recall 0.8827888177837656 \n",
      " F1 0.8540936863543788\n"
     ]
    }
   ],
   "source": [
    "#ovr\n",
    "from sklearn.metrics import accuracy_score,confusion_matrix\n",
    "y_pred = lr.predict(X_test_bow)\n",
    "print(accuracy_score(y_test,y_pred))\n",
    "\n",
    "#Confusion Matrix\n",
    "lr_ovr_tn, lr_ovr_fp, lr_ovr_fn, lr_ovr_tp = confusion_matrix(y_test, y_pred).ravel()\n",
    "\n",
    "#measurements\n",
    "lr_ovr_accuracy = (lr_ovr_tp+lr_ovr_tn)/(lr_ovr_tp+lr_ovr_tn+lr_ovr_fp+lr_ovr_fn)\n",
    "print(\" Accuracy\", lr_ovr_accuracy)\n",
    "lr_ovr_precision = lr_ovr_tp/(lr_ovr_tp+lr_ovr_fp)\n",
    "lr_ovr_recall = lr_ovr_tp/(lr_ovr_tp+lr_ovr_fn)\n",
    "lr_ovr_f1_score = (2*lr_ovr_precision)*(lr_ovr_recall)/(lr_ovr_precision+lr_ovr_recall)\n",
    "print(\" Precision\",lr_ovr_precision,\"\\n\",\"Recall\",lr_ovr_recall,\"\\n\",\"F1\",lr_ovr_f1_score)"
   ]
  },
  {
   "cell_type": "code",
   "execution_count": 210,
   "id": "648fc3b5",
   "metadata": {},
   "outputs": [
    {
     "name": "stderr",
     "output_type": "stream",
     "text": [
      "/common/home/projectgrps/IS460/IS460G1/jupyterlab-venv/lib/python3.7/site-packages/sklearn/linear_model/_logistic.py:818: ConvergenceWarning: lbfgs failed to converge (status=1):\n",
      "STOP: TOTAL NO. of ITERATIONS REACHED LIMIT.\n",
      "\n",
      "Increase the number of iterations (max_iter) or scale the data as shown in:\n",
      "    https://scikit-learn.org/stable/modules/preprocessing.html\n",
      "Please also refer to the documentation for alternative solver options:\n",
      "    https://scikit-learn.org/stable/modules/linear_model.html#logistic-regression\n",
      "  extra_warning_msg=_LOGISTIC_SOLVER_CONVERGENCE_MSG,\n"
     ]
    },
    {
     "data": {
      "text/plain": [
       "LogisticRegression(C=1, multi_class='multinomial')"
      ]
     },
     "execution_count": 210,
     "metadata": {},
     "output_type": "execute_result"
    }
   ],
   "source": [
    "from sklearn.linear_model import LogisticRegression\n",
    "lr = LogisticRegression(multi_class='multinomial', C=1)\n",
    "lr.fit(X_train_bow,y_train)"
   ]
  },
  {
   "cell_type": "code",
   "execution_count": 213,
   "id": "a5174dab",
   "metadata": {},
   "outputs": [
    {
     "name": "stdout",
     "output_type": "stream",
     "text": [
      "0.8173201636236656\n",
      " Accuracy 0.8173201636236656\n",
      " Precision 0.8276687410244136 \n",
      " Recall 0.873526439878747 \n",
      " F1 0.8499795165915607\n"
     ]
    }
   ],
   "source": [
    "#multinomial\n",
    "from sklearn.metrics import accuracy_score,confusion_matrix\n",
    "y_pred = lr.predict(X_test_bow)\n",
    "print(accuracy_score(y_test,y_pred))\n",
    "\n",
    "#Confusion Matrix\n",
    "lr_mn_tn, lr_mn_fp, lr_mn_fn, lr_mn_tp = confusion_matrix(y_test, y_pred).ravel()\n",
    "\n",
    "#measurements\n",
    "lr_mn_accuracy = (lr_mn_tp+lr_mn_tn)/(lr_mn_tp+lr_mn_tn+lr_mn_fp+lr_mn_fn)\n",
    "print(\" Accuracy\", lr_mn_accuracy)\n",
    "lr_mn_precision = lr_mn_tp/(lr_mn_tp+lr_mn_fp)\n",
    "lr_mn_recall = lr_mn_tp/(lr_mn_tp+lr_mn_fn)\n",
    "lr_mn_f1_score = (2*lr_mn_precision)*(lr_mn_recall)/(lr_mn_precision+lr_mn_recall)\n",
    "print(\" Precision\",lr_mn_precision,\"\\n\",\"Recall\",lr_mn_recall,\"\\n\",\"F1\",lr_mn_f1_score)"
   ]
  },
  {
   "cell_type": "code",
   "execution_count": 214,
   "id": "03fb345e",
   "metadata": {},
   "outputs": [
    {
     "data": {
      "text/html": [
       "<div>\n",
       "<style scoped>\n",
       "    .dataframe tbody tr th:only-of-type {\n",
       "        vertical-align: middle;\n",
       "    }\n",
       "\n",
       "    .dataframe tbody tr th {\n",
       "        vertical-align: top;\n",
       "    }\n",
       "\n",
       "    .dataframe thead th {\n",
       "        text-align: right;\n",
       "    }\n",
       "</style>\n",
       "<table border=\"1\" class=\"dataframe\">\n",
       "  <thead>\n",
       "    <tr style=\"text-align: right;\">\n",
       "      <th></th>\n",
       "      <th>Classifier</th>\n",
       "      <th>Accuracy Score</th>\n",
       "      <th>Precision</th>\n",
       "      <th>Recall</th>\n",
       "      <th>F-Measure</th>\n",
       "    </tr>\n",
       "  </thead>\n",
       "  <tbody>\n",
       "    <tr>\n",
       "      <th>0</th>\n",
       "      <td>Logistic Regression (OVR)</td>\n",
       "      <td>0.821311</td>\n",
       "      <td>0.827205</td>\n",
       "      <td>0.882789</td>\n",
       "      <td>0.854094</td>\n",
       "    </tr>\n",
       "    <tr>\n",
       "      <th>1</th>\n",
       "      <td>Logistic Regression (Multinomial)</td>\n",
       "      <td>0.817320</td>\n",
       "      <td>0.827669</td>\n",
       "      <td>0.873526</td>\n",
       "      <td>0.849980</td>\n",
       "    </tr>\n",
       "    <tr>\n",
       "      <th>2</th>\n",
       "      <td>Multinomial Naive Bayes</td>\n",
       "      <td>0.804250</td>\n",
       "      <td>0.804069</td>\n",
       "      <td>0.885315</td>\n",
       "      <td>0.842738</td>\n",
       "    </tr>\n",
       "  </tbody>\n",
       "</table>\n",
       "</div>"
      ],
      "text/plain": [
       "                          Classifier  Accuracy Score  Precision    Recall  \\\n",
       "0          Logistic Regression (OVR)        0.821311   0.827205  0.882789   \n",
       "1  Logistic Regression (Multinomial)        0.817320   0.827669  0.873526   \n",
       "2            Multinomial Naive Bayes        0.804250   0.804069  0.885315   \n",
       "\n",
       "   F-Measure  \n",
       "0   0.854094  \n",
       "1   0.849980  \n",
       "2   0.842738  "
      ]
     },
     "execution_count": 214,
     "metadata": {},
     "output_type": "execute_result"
    }
   ],
   "source": [
    "metric_data = [[\"Logistic Regression (OVR)\", lr_ovr_accuracy, lr_ovr_precision, lr_ovr_recall, lr_ovr_f1_score], [\"Logistic Regression (Multinomial)\", lr_mn_accuracy, lr_mn_precision, lr_mn_recall, lr_mn_f1_score], [\"Multinomial Naive Bayes\", mnb_accuracy, mnb_precision, mnb_recall, mnb_f1_score]]\n",
    "res_df = pd.DataFrame(metric_data, columns=['Classifier', 'Accuracy Score', 'Precision', 'Recall', 'F-Measure'])\n",
    "res_df"
   ]
  },
  {
   "cell_type": "markdown",
   "id": "aacd8e69",
   "metadata": {},
   "source": [
    "# Save models trained for NB one. We will tune the LR models later (As of Proposal)"
   ]
  },
  {
   "cell_type": "code",
   "execution_count": 220,
   "id": "e3f9febb",
   "metadata": {},
   "outputs": [],
   "source": [
    "import pickle\n",
    "# save the model to disk\n",
    "filename = 'multinomialNB.pkl'\n",
    "pickle.dump(mnb, open(filename, 'wb'))"
   ]
  },
  {
   "cell_type": "code",
   "execution_count": 221,
   "id": "30602189",
   "metadata": {},
   "outputs": [
    {
     "data": {
      "text/plain": [
       "11942"
      ]
     },
     "execution_count": 221,
     "metadata": {},
     "output_type": "execute_result"
    }
   ],
   "source": [
    "import gc\n",
    "del mnb\n",
    "gc.collect()"
   ]
  },
  {
   "cell_type": "markdown",
   "id": "e1a83310",
   "metadata": {},
   "source": [
    "## Fine Tune Logistic Regression OVR and Multinomial (OVR and Multimonial)  <a class=\"anchor\" id=\"sixth-bullet\"></a>"
   ]
  },
  {
   "cell_type": "markdown",
   "id": "52c01314",
   "metadata": {},
   "source": [
    "## Fine Tune OVR <a class=\"anchor\" id=\"seventh-bullet\"></a>"
   ]
  },
  {
   "cell_type": "code",
   "execution_count": 222,
   "id": "af07e23e",
   "metadata": {},
   "outputs": [
    {
     "name": "stdout",
     "output_type": "stream",
     "text": [
      "0.7269280654494662\n",
      " Accuracy 0.7269280654494662\n",
      " Precision 0.7033413797484437 \n",
      " Recall 0.9323004378578647 \n",
      " F1 0.8017959301904555\n"
     ]
    }
   ],
   "source": [
    "lr = LogisticRegression(multi_class='ovr', C=0.01)\n",
    "lr.fit(X_train_bow,y_train)\n",
    "y_pred = lr.predict(X_test_bow)\n",
    "print(accuracy_score(y_test,y_pred))\n",
    "#Confusion Matrix\n",
    "lr_mn_tn, lr_mn_fp, lr_mn_fn, lr_mn_tp = confusion_matrix(y_test, y_pred).ravel()\n",
    "#measurements\n",
    "lr_mn_accuracy = (lr_mn_tp+lr_mn_tn)/(lr_mn_tp+lr_mn_tn+lr_mn_fp+lr_mn_fn)\n",
    "print(\" Accuracy\", lr_mn_accuracy)\n",
    "lr_mn_precision = lr_mn_tp/(lr_mn_tp+lr_mn_fp)\n",
    "lr_mn_recall = lr_mn_tp/(lr_mn_tp+lr_mn_fn)\n",
    "lr_mn_f1_score = (2*lr_mn_precision)*(lr_mn_recall)/(lr_mn_precision+lr_mn_recall)\n",
    "print(\" Precision\",lr_mn_precision,\"\\n\",\"Recall\",lr_mn_recall,\"\\n\",\"F1\",lr_mn_f1_score)"
   ]
  },
  {
   "cell_type": "code",
   "execution_count": 223,
   "id": "ebeb1448",
   "metadata": {},
   "outputs": [
    {
     "name": "stdout",
     "output_type": "stream",
     "text": [
      "0.8152249825401576\n",
      " Accuracy 0.8152249825401576\n",
      " Precision 0.8074029491423412 \n",
      " Recall 0.9036712697878073 \n",
      " F1 0.8528289891926255\n"
     ]
    }
   ],
   "source": [
    "lr = LogisticRegression(multi_class='ovr', C=0.1)\n",
    "lr.fit(X_train_bow,y_train)\n",
    "y_pred = lr.predict(X_test_bow)\n",
    "print(accuracy_score(y_test,y_pred))\n",
    "#Confusion Matrix\n",
    "lr_mn_tn, lr_mn_fp, lr_mn_fn, lr_mn_tp = confusion_matrix(y_test, y_pred).ravel()\n",
    "#measurements\n",
    "lr_mn_accuracy = (lr_mn_tp+lr_mn_tn)/(lr_mn_tp+lr_mn_tn+lr_mn_fp+lr_mn_fn)\n",
    "print(\" Accuracy\", lr_mn_accuracy)\n",
    "lr_mn_precision = lr_mn_tp/(lr_mn_tp+lr_mn_fp)\n",
    "lr_mn_recall = lr_mn_tp/(lr_mn_tp+lr_mn_fn)\n",
    "lr_mn_f1_score = (2*lr_mn_precision)*(lr_mn_recall)/(lr_mn_precision+lr_mn_recall)\n",
    "print(\" Precision\",lr_mn_precision,\"\\n\",\"Recall\",lr_mn_recall,\"\\n\",\"F1\",lr_mn_f1_score)"
   ]
  },
  {
   "cell_type": "code",
   "execution_count": 224,
   "id": "89972b91",
   "metadata": {},
   "outputs": [
    {
     "name": "stdout",
     "output_type": "stream",
     "text": [
      "0.8197146562905318\n",
      " Accuracy 0.8197146562905318\n",
      " Precision 0.8142400730260155 \n",
      " Recall 0.9013135735938026 \n",
      " F1 0.8555671009511631\n"
     ]
    }
   ],
   "source": [
    "lr = LogisticRegression(multi_class='ovr', C=0.15)\n",
    "lr.fit(X_train_bow,y_train)\n",
    "y_pred = lr.predict(X_test_bow)\n",
    "print(accuracy_score(y_test,y_pred))\n",
    "#Confusion Matrix\n",
    "lr_mn_tn, lr_mn_fp, lr_mn_fn, lr_mn_tp = confusion_matrix(y_test, y_pred).ravel()\n",
    "#measurements\n",
    "lr_mn_accuracy = (lr_mn_tp+lr_mn_tn)/(lr_mn_tp+lr_mn_tn+lr_mn_fp+lr_mn_fn)\n",
    "print(\" Accuracy\", lr_mn_accuracy)\n",
    "lr_mn_precision = lr_mn_tp/(lr_mn_tp+lr_mn_fp)\n",
    "lr_mn_recall = lr_mn_tp/(lr_mn_tp+lr_mn_fn)\n",
    "lr_mn_f1_score = (2*lr_mn_precision)*(lr_mn_recall)/(lr_mn_precision+lr_mn_recall)\n",
    "print(\" Precision\",lr_mn_precision,\"\\n\",\"Recall\",lr_mn_recall,\"\\n\",\"F1\",lr_mn_f1_score)"
   ]
  },
  {
   "cell_type": "code",
   "execution_count": 225,
   "id": "4c64a7a4",
   "metadata": {},
   "outputs": [
    {
     "name": "stdout",
     "output_type": "stream",
     "text": [
      "0.8217100668462536\n",
      " Accuracy 0.8217100668462536\n",
      " Precision 0.817986823962004 \n",
      " Recall 0.8991242842707983 \n",
      " F1 0.8566385880465301\n"
     ]
    }
   ],
   "source": [
    "lr = LogisticRegression(multi_class='ovr', C=0.2)\n",
    "lr.fit(X_train_bow,y_train)\n",
    "y_pred = lr.predict(X_test_bow)\n",
    "print(accuracy_score(y_test,y_pred))\n",
    "#Confusion Matrix\n",
    "lr_mn_tn, lr_mn_fp, lr_mn_fn, lr_mn_tp = confusion_matrix(y_test, y_pred).ravel()\n",
    "#measurements\n",
    "lr_mn_accuracy = (lr_mn_tp+lr_mn_tn)/(lr_mn_tp+lr_mn_tn+lr_mn_fp+lr_mn_fn)\n",
    "print(\" Accuracy\", lr_mn_accuracy)\n",
    "lr_mn_precision = lr_mn_tp/(lr_mn_tp+lr_mn_fp)\n",
    "lr_mn_recall = lr_mn_tp/(lr_mn_tp+lr_mn_fn)\n",
    "lr_mn_f1_score = (2*lr_mn_precision)*(lr_mn_recall)/(lr_mn_precision+lr_mn_recall)\n",
    "print(\" Precision\",lr_mn_precision,\"\\n\",\"Recall\",lr_mn_recall,\"\\n\",\"F1\",lr_mn_f1_score)"
   ]
  },
  {
   "cell_type": "code",
   "execution_count": 226,
   "id": "372d4fcc",
   "metadata": {},
   "outputs": [
    {
     "name": "stderr",
     "output_type": "stream",
     "text": [
      "/common/home/projectgrps/IS460/IS460G1/jupyterlab-venv/lib/python3.7/site-packages/sklearn/linear_model/_logistic.py:818: ConvergenceWarning: lbfgs failed to converge (status=1):\n",
      "STOP: TOTAL NO. of ITERATIONS REACHED LIMIT.\n",
      "\n",
      "Increase the number of iterations (max_iter) or scale the data as shown in:\n",
      "    https://scikit-learn.org/stable/modules/preprocessing.html\n",
      "Please also refer to the documentation for alternative solver options:\n",
      "    https://scikit-learn.org/stable/modules/linear_model.html#logistic-regression\n",
      "  extra_warning_msg=_LOGISTIC_SOLVER_CONVERGENCE_MSG,\n"
     ]
    },
    {
     "name": "stdout",
     "output_type": "stream",
     "text": [
      "0.8228075426519006\n",
      " Accuracy 0.8228075426519006\n",
      " Precision 0.8247503121098627 \n",
      " Recall 0.8900303132367801 \n",
      " F1 0.8561477401587559\n"
     ]
    }
   ],
   "source": [
    "lr = LogisticRegression(multi_class='ovr', C=0.5)\n",
    "lr.fit(X_train_bow,y_train)\n",
    "y_pred = lr.predict(X_test_bow)\n",
    "print(accuracy_score(y_test,y_pred))\n",
    "#Confusion Matrix\n",
    "lr_mn_tn, lr_mn_fp, lr_mn_fn, lr_mn_tp = confusion_matrix(y_test, y_pred).ravel()\n",
    "#measurements\n",
    "lr_mn_accuracy = (lr_mn_tp+lr_mn_tn)/(lr_mn_tp+lr_mn_tn+lr_mn_fp+lr_mn_fn)\n",
    "print(\" Accuracy\", lr_mn_accuracy)\n",
    "lr_mn_precision = lr_mn_tp/(lr_mn_tp+lr_mn_fp)\n",
    "lr_mn_recall = lr_mn_tp/(lr_mn_tp+lr_mn_fn)\n",
    "lr_mn_f1_score = (2*lr_mn_precision)*(lr_mn_recall)/(lr_mn_precision+lr_mn_recall)\n",
    "print(\" Precision\",lr_mn_precision,\"\\n\",\"Recall\",lr_mn_recall,\"\\n\",\"F1\",lr_mn_f1_score)"
   ]
  },
  {
   "cell_type": "code",
   "execution_count": 227,
   "id": "1fc329da",
   "metadata": {},
   "outputs": [
    {
     "name": "stderr",
     "output_type": "stream",
     "text": [
      "/common/home/projectgrps/IS460/IS460G1/jupyterlab-venv/lib/python3.7/site-packages/sklearn/linear_model/_logistic.py:818: ConvergenceWarning: lbfgs failed to converge (status=1):\n",
      "STOP: TOTAL NO. of ITERATIONS REACHED LIMIT.\n",
      "\n",
      "Increase the number of iterations (max_iter) or scale the data as shown in:\n",
      "    https://scikit-learn.org/stable/modules/preprocessing.html\n",
      "Please also refer to the documentation for alternative solver options:\n",
      "    https://scikit-learn.org/stable/modules/linear_model.html#logistic-regression\n",
      "  extra_warning_msg=_LOGISTIC_SOLVER_CONVERGENCE_MSG,\n"
     ]
    },
    {
     "name": "stdout",
     "output_type": "stream",
     "text": [
      "0.8226080015963284\n",
      " Accuracy 0.8226080015963284\n",
      " Precision 0.8256105197244834 \n",
      " Recall 0.8881778376557764 \n",
      " F1 0.8557520687976635\n"
     ]
    }
   ],
   "source": [
    "lr = LogisticRegression(multi_class='ovr', C=0.6)\n",
    "lr.fit(X_train_bow,y_train)\n",
    "y_pred = lr.predict(X_test_bow)\n",
    "print(accuracy_score(y_test,y_pred))\n",
    "#Confusion Matrix\n",
    "lr_mn_tn, lr_mn_fp, lr_mn_fn, lr_mn_tp = confusion_matrix(y_test, y_pred).ravel()\n",
    "#measurements\n",
    "lr_mn_accuracy = (lr_mn_tp+lr_mn_tn)/(lr_mn_tp+lr_mn_tn+lr_mn_fp+lr_mn_fn)\n",
    "print(\" Accuracy\", lr_mn_accuracy)\n",
    "lr_mn_precision = lr_mn_tp/(lr_mn_tp+lr_mn_fp)\n",
    "lr_mn_recall = lr_mn_tp/(lr_mn_tp+lr_mn_fn)\n",
    "lr_mn_f1_score = (2*lr_mn_precision)*(lr_mn_recall)/(lr_mn_precision+lr_mn_recall)\n",
    "print(\" Precision\",lr_mn_precision,\"\\n\",\"Recall\",lr_mn_recall,\"\\n\",\"F1\",lr_mn_f1_score)"
   ]
  },
  {
   "cell_type": "code",
   "execution_count": 228,
   "id": "8e89c90f",
   "metadata": {},
   "outputs": [
    {
     "name": "stderr",
     "output_type": "stream",
     "text": [
      "/common/home/projectgrps/IS460/IS460G1/jupyterlab-venv/lib/python3.7/site-packages/sklearn/linear_model/_logistic.py:818: ConvergenceWarning: lbfgs failed to converge (status=1):\n",
      "STOP: TOTAL NO. of ITERATIONS REACHED LIMIT.\n",
      "\n",
      "Increase the number of iterations (max_iter) or scale the data as shown in:\n",
      "    https://scikit-learn.org/stable/modules/preprocessing.html\n",
      "Please also refer to the documentation for alternative solver options:\n",
      "    https://scikit-learn.org/stable/modules/linear_model.html#logistic-regression\n",
      "  extra_warning_msg=_LOGISTIC_SOLVER_CONVERGENCE_MSG,\n"
     ]
    },
    {
     "name": "stdout",
     "output_type": "stream",
     "text": [
      "0.8215105257906814\n",
      " Accuracy 0.8215105257906814\n",
      " Precision 0.8255138867095559 \n",
      " Recall 0.885988548332772 \n",
      " F1 0.854682803996426\n"
     ]
    }
   ],
   "source": [
    "lr = LogisticRegression(multi_class='ovr', C=0.7)\n",
    "lr.fit(X_train_bow,y_train)\n",
    "y_pred = lr.predict(X_test_bow)\n",
    "print(accuracy_score(y_test,y_pred))\n",
    "#Confusion Matrix\n",
    "lr_mn_tn, lr_mn_fp, lr_mn_fn, lr_mn_tp = confusion_matrix(y_test, y_pred).ravel()\n",
    "#measurements\n",
    "lr_mn_accuracy = (lr_mn_tp+lr_mn_tn)/(lr_mn_tp+lr_mn_tn+lr_mn_fp+lr_mn_fn)\n",
    "print(\" Accuracy\", lr_mn_accuracy)\n",
    "lr_mn_precision = lr_mn_tp/(lr_mn_tp+lr_mn_fp)\n",
    "lr_mn_recall = lr_mn_tp/(lr_mn_tp+lr_mn_fn)\n",
    "lr_mn_f1_score = (2*lr_mn_precision)*(lr_mn_recall)/(lr_mn_precision+lr_mn_recall)\n",
    "print(\" Precision\",lr_mn_precision,\"\\n\",\"Recall\",lr_mn_recall,\"\\n\",\"F1\",lr_mn_f1_score)"
   ]
  },
  {
   "cell_type": "code",
   "execution_count": 229,
   "id": "a9b80b32",
   "metadata": {},
   "outputs": [
    {
     "name": "stderr",
     "output_type": "stream",
     "text": [
      "/common/home/projectgrps/IS460/IS460G1/jupyterlab-venv/lib/python3.7/site-packages/sklearn/linear_model/_logistic.py:818: ConvergenceWarning: lbfgs failed to converge (status=1):\n",
      "STOP: TOTAL NO. of ITERATIONS REACHED LIMIT.\n",
      "\n",
      "Increase the number of iterations (max_iter) or scale the data as shown in:\n",
      "    https://scikit-learn.org/stable/modules/preprocessing.html\n",
      "Please also refer to the documentation for alternative solver options:\n",
      "    https://scikit-learn.org/stable/modules/linear_model.html#logistic-regression\n",
      "  extra_warning_msg=_LOGISTIC_SOLVER_CONVERGENCE_MSG,\n"
     ]
    },
    {
     "name": "stdout",
     "output_type": "stream",
     "text": [
      "0.8213109847351092\n",
      " Accuracy 0.8213109847351092\n",
      " Precision 0.8264840182648402 \n",
      " Recall 0.8839676658807679 \n",
      " F1 0.8542599072341118\n"
     ]
    }
   ],
   "source": [
    "lr = LogisticRegression(multi_class='ovr', C=0.8)\n",
    "lr.fit(X_train_bow,y_train)\n",
    "y_pred = lr.predict(X_test_bow)\n",
    "print(accuracy_score(y_test,y_pred))\n",
    "#Confusion Matrix\n",
    "lr_mn_tn, lr_mn_fp, lr_mn_fn, lr_mn_tp = confusion_matrix(y_test, y_pred).ravel()\n",
    "#measurements\n",
    "lr_mn_accuracy = (lr_mn_tp+lr_mn_tn)/(lr_mn_tp+lr_mn_tn+lr_mn_fp+lr_mn_fn)\n",
    "print(\" Accuracy\", lr_mn_accuracy)\n",
    "lr_mn_precision = lr_mn_tp/(lr_mn_tp+lr_mn_fp)\n",
    "lr_mn_recall = lr_mn_tp/(lr_mn_tp+lr_mn_fn)\n",
    "lr_mn_f1_score = (2*lr_mn_precision)*(lr_mn_recall)/(lr_mn_precision+lr_mn_recall)\n",
    "print(\" Precision\",lr_mn_precision,\"\\n\",\"Recall\",lr_mn_recall,\"\\n\",\"F1\",lr_mn_f1_score)"
   ]
  },
  {
   "cell_type": "code",
   "execution_count": 230,
   "id": "4e2d0a59",
   "metadata": {},
   "outputs": [
    {
     "name": "stderr",
     "output_type": "stream",
     "text": [
      "/common/home/projectgrps/IS460/IS460G1/jupyterlab-venv/lib/python3.7/site-packages/sklearn/linear_model/_logistic.py:818: ConvergenceWarning: lbfgs failed to converge (status=1):\n",
      "STOP: TOTAL NO. of ITERATIONS REACHED LIMIT.\n",
      "\n",
      "Increase the number of iterations (max_iter) or scale the data as shown in:\n",
      "    https://scikit-learn.org/stable/modules/preprocessing.html\n",
      "Please also refer to the documentation for alternative solver options:\n",
      "    https://scikit-learn.org/stable/modules/linear_model.html#logistic-regression\n",
      "  extra_warning_msg=_LOGISTIC_SOLVER_CONVERGENCE_MSG,\n"
     ]
    },
    {
     "name": "stdout",
     "output_type": "stream",
     "text": [
      "0.8218098373740397\n",
      " Accuracy 0.8218098373740397\n",
      " Precision 0.8272383354350568 \n",
      " Recall 0.8837992590097676 \n",
      " F1 0.8545839439830646\n"
     ]
    }
   ],
   "source": [
    "lr = LogisticRegression(multi_class='ovr', C=0.9)\n",
    "lr.fit(X_train_bow,y_train)\n",
    "y_pred = lr.predict(X_test_bow)\n",
    "print(accuracy_score(y_test,y_pred))\n",
    "#Confusion Matrix\n",
    "lr_mn_tn, lr_mn_fp, lr_mn_fn, lr_mn_tp = confusion_matrix(y_test, y_pred).ravel()\n",
    "#measurements\n",
    "lr_mn_accuracy = (lr_mn_tp+lr_mn_tn)/(lr_mn_tp+lr_mn_tn+lr_mn_fp+lr_mn_fn)\n",
    "print(\" Accuracy\", lr_mn_accuracy)\n",
    "lr_mn_precision = lr_mn_tp/(lr_mn_tp+lr_mn_fp)\n",
    "lr_mn_recall = lr_mn_tp/(lr_mn_tp+lr_mn_fn)\n",
    "lr_mn_f1_score = (2*lr_mn_precision)*(lr_mn_recall)/(lr_mn_precision+lr_mn_recall)\n",
    "print(\" Precision\",lr_mn_precision,\"\\n\",\"Recall\",lr_mn_recall,\"\\n\",\"F1\",lr_mn_f1_score)"
   ]
  },
  {
   "cell_type": "markdown",
   "id": "b125f99c",
   "metadata": {},
   "source": [
    "# Logistic Regression OVR with c=0.2 is the best so far, with F1 of 0.8566385880465301"
   ]
  },
  {
   "cell_type": "markdown",
   "id": "5106951e",
   "metadata": {},
   "source": [
    "## Fine Tune Multinomial <a class=\"anchor\" id=\"eight-bullet\"></a>"
   ]
  },
  {
   "cell_type": "code",
   "execution_count": 232,
   "id": "6f7c794e",
   "metadata": {},
   "outputs": [
    {
     "name": "stdout",
     "output_type": "stream",
     "text": [
      "0.7640427017858924\n",
      " Accuracy 0.7640427017858924\n",
      " Precision 0.7421716144774299 \n",
      " Recall 0.922027618726844 \n",
      " F1 0.82238077356365\n"
     ]
    }
   ],
   "source": [
    "lr = LogisticRegression(multi_class='multinomial', C=0.01)\n",
    "lr.fit(X_train_bow,y_train)\n",
    "y_pred = lr.predict(X_test_bow)\n",
    "print(accuracy_score(y_test,y_pred))\n",
    "#Confusion Matrix\n",
    "lr_mn_tn, lr_mn_fp, lr_mn_fn, lr_mn_tp = confusion_matrix(y_test, y_pred).ravel()\n",
    "#measurements\n",
    "lr_mn_accuracy = (lr_mn_tp+lr_mn_tn)/(lr_mn_tp+lr_mn_tn+lr_mn_fp+lr_mn_fn)\n",
    "print(\" Accuracy\", lr_mn_accuracy)\n",
    "lr_mn_precision = lr_mn_tp/(lr_mn_tp+lr_mn_fp)\n",
    "lr_mn_recall = lr_mn_tp/(lr_mn_tp+lr_mn_fn)\n",
    "lr_mn_f1_score = (2*lr_mn_precision)*(lr_mn_recall)/(lr_mn_precision+lr_mn_recall)\n",
    "print(\" Precision\",lr_mn_precision,\"\\n\",\"Recall\",lr_mn_recall,\"\\n\",\"F1\",lr_mn_f1_score)"
   ]
  },
  {
   "cell_type": "code",
   "execution_count": 233,
   "id": "9cabf22c",
   "metadata": {},
   "outputs": [
    {
     "name": "stdout",
     "output_type": "stream",
     "text": [
      "0.8217100668462536\n",
      " Accuracy 0.8217100668462536\n",
      " Precision 0.817986823962004 \n",
      " Recall 0.8991242842707983 \n",
      " F1 0.8566385880465301\n"
     ]
    }
   ],
   "source": [
    "lr = LogisticRegression(multi_class='multinomial', C=0.1)\n",
    "lr.fit(X_train_bow,y_train)\n",
    "y_pred = lr.predict(X_test_bow)\n",
    "print(accuracy_score(y_test,y_pred))\n",
    "#Confusion Matrix\n",
    "lr_mn_tn, lr_mn_fp, lr_mn_fn, lr_mn_tp = confusion_matrix(y_test, y_pred).ravel()\n",
    "#measurements\n",
    "lr_mn_accuracy = (lr_mn_tp+lr_mn_tn)/(lr_mn_tp+lr_mn_tn+lr_mn_fp+lr_mn_fn)\n",
    "print(\" Accuracy\", lr_mn_accuracy)\n",
    "lr_mn_precision = lr_mn_tp/(lr_mn_tp+lr_mn_fp)\n",
    "lr_mn_recall = lr_mn_tp/(lr_mn_tp+lr_mn_fn)\n",
    "lr_mn_f1_score = (2*lr_mn_precision)*(lr_mn_recall)/(lr_mn_precision+lr_mn_recall)\n",
    "print(\" Precision\",lr_mn_precision,\"\\n\",\"Recall\",lr_mn_recall,\"\\n\",\"F1\",lr_mn_f1_score)"
   ]
  },
  {
   "cell_type": "code",
   "execution_count": 234,
   "id": "c5208702",
   "metadata": {},
   "outputs": [
    {
     "name": "stdout",
     "output_type": "stream",
     "text": [
      "0.8224084605407562\n",
      " Accuracy 0.8224084605407562\n",
      " Precision 0.821229913473424 \n",
      " Recall 0.8950825193667902 \n",
      " F1 0.8565672844480259\n"
     ]
    }
   ],
   "source": [
    "lr = LogisticRegression(multi_class='multinomial', C=0.15)\n",
    "lr.fit(X_train_bow,y_train)\n",
    "y_pred = lr.predict(X_test_bow)\n",
    "print(accuracy_score(y_test,y_pred))\n",
    "#Confusion Matrix\n",
    "lr_mn_tn, lr_mn_fp, lr_mn_fn, lr_mn_tp = confusion_matrix(y_test, y_pred).ravel()\n",
    "#measurements\n",
    "lr_mn_accuracy = (lr_mn_tp+lr_mn_tn)/(lr_mn_tp+lr_mn_tn+lr_mn_fp+lr_mn_fn)\n",
    "print(\" Accuracy\", lr_mn_accuracy)\n",
    "lr_mn_precision = lr_mn_tp/(lr_mn_tp+lr_mn_fp)\n",
    "lr_mn_recall = lr_mn_tp/(lr_mn_tp+lr_mn_fn)\n",
    "lr_mn_f1_score = (2*lr_mn_precision)*(lr_mn_recall)/(lr_mn_precision+lr_mn_recall)\n",
    "print(\" Precision\",lr_mn_precision,\"\\n\",\"Recall\",lr_mn_recall,\"\\n\",\"F1\",lr_mn_f1_score)"
   ]
  },
  {
   "cell_type": "code",
   "execution_count": 235,
   "id": "77192fcd",
   "metadata": {},
   "outputs": [
    {
     "name": "stderr",
     "output_type": "stream",
     "text": [
      "/common/home/projectgrps/IS460/IS460G1/jupyterlab-venv/lib/python3.7/site-packages/sklearn/linear_model/_logistic.py:818: ConvergenceWarning: lbfgs failed to converge (status=1):\n",
      "STOP: TOTAL NO. of ITERATIONS REACHED LIMIT.\n",
      "\n",
      "Increase the number of iterations (max_iter) or scale the data as shown in:\n",
      "    https://scikit-learn.org/stable/modules/preprocessing.html\n",
      "Please also refer to the documentation for alternative solver options:\n",
      "    https://scikit-learn.org/stable/modules/linear_model.html#logistic-regression\n",
      "  extra_warning_msg=_LOGISTIC_SOLVER_CONVERGENCE_MSG,\n"
     ]
    },
    {
     "name": "stdout",
     "output_type": "stream",
     "text": [
      "0.8231068542352589\n",
      " Accuracy 0.8231068542352589\n",
      " Precision 0.8242254398256267 \n",
      " Recall 0.891545975075783 \n",
      " F1 0.8565650028314861\n"
     ]
    }
   ],
   "source": [
    "lr = LogisticRegression(multi_class='multinomial', C=0.2)\n",
    "lr.fit(X_train_bow,y_train)\n",
    "y_pred = lr.predict(X_test_bow)\n",
    "print(accuracy_score(y_test,y_pred))\n",
    "#Confusion Matrix\n",
    "lr_mn_tn, lr_mn_fp, lr_mn_fn, lr_mn_tp = confusion_matrix(y_test, y_pred).ravel()\n",
    "#measurements\n",
    "lr_mn_accuracy = (lr_mn_tp+lr_mn_tn)/(lr_mn_tp+lr_mn_tn+lr_mn_fp+lr_mn_fn)\n",
    "print(\" Accuracy\", lr_mn_accuracy)\n",
    "lr_mn_precision = lr_mn_tp/(lr_mn_tp+lr_mn_fp)\n",
    "lr_mn_recall = lr_mn_tp/(lr_mn_tp+lr_mn_fn)\n",
    "lr_mn_f1_score = (2*lr_mn_precision)*(lr_mn_recall)/(lr_mn_precision+lr_mn_recall)\n",
    "print(\" Precision\",lr_mn_precision,\"\\n\",\"Recall\",lr_mn_recall,\"\\n\",\"F1\",lr_mn_f1_score)"
   ]
  },
  {
   "cell_type": "code",
   "execution_count": 236,
   "id": "9ba89e54",
   "metadata": {},
   "outputs": [
    {
     "name": "stderr",
     "output_type": "stream",
     "text": [
      "/common/home/projectgrps/IS460/IS460G1/jupyterlab-venv/lib/python3.7/site-packages/sklearn/linear_model/_logistic.py:818: ConvergenceWarning: lbfgs failed to converge (status=1):\n",
      "STOP: TOTAL NO. of ITERATIONS REACHED LIMIT.\n",
      "\n",
      "Increase the number of iterations (max_iter) or scale the data as shown in:\n",
      "    https://scikit-learn.org/stable/modules/preprocessing.html\n",
      "Please also refer to the documentation for alternative solver options:\n",
      "    https://scikit-learn.org/stable/modules/linear_model.html#logistic-regression\n",
      "  extra_warning_msg=_LOGISTIC_SOLVER_CONVERGENCE_MSG,\n"
     ]
    },
    {
     "name": "stdout",
     "output_type": "stream",
     "text": [
      "0.8218098373740397\n",
      " Accuracy 0.8218098373740397\n",
      " Precision 0.8277549731607199 \n",
      " Recall 0.8829572246547659 \n",
      " F1 0.8544654498044328\n"
     ]
    }
   ],
   "source": [
    "lr = LogisticRegression(multi_class='multinomial', C=0.5)\n",
    "lr.fit(X_train_bow,y_train)\n",
    "y_pred = lr.predict(X_test_bow)\n",
    "print(accuracy_score(y_test,y_pred))\n",
    "#Confusion Matrix\n",
    "lr_mn_tn, lr_mn_fp, lr_mn_fn, lr_mn_tp = confusion_matrix(y_test, y_pred).ravel()\n",
    "#measurements\n",
    "lr_mn_accuracy = (lr_mn_tp+lr_mn_tn)/(lr_mn_tp+lr_mn_tn+lr_mn_fp+lr_mn_fn)\n",
    "print(\" Accuracy\", lr_mn_accuracy)\n",
    "lr_mn_precision = lr_mn_tp/(lr_mn_tp+lr_mn_fp)\n",
    "lr_mn_recall = lr_mn_tp/(lr_mn_tp+lr_mn_fn)\n",
    "lr_mn_f1_score = (2*lr_mn_precision)*(lr_mn_recall)/(lr_mn_precision+lr_mn_recall)\n",
    "print(\" Precision\",lr_mn_precision,\"\\n\",\"Recall\",lr_mn_recall,\"\\n\",\"F1\",lr_mn_f1_score)"
   ]
  },
  {
   "cell_type": "code",
   "execution_count": 237,
   "id": "1f55374f",
   "metadata": {},
   "outputs": [],
   "source": [
    "# import pickle\n",
    "# # save the model to disk\n",
    "# filename = 'best logistic_regression-multinomial-c0.5.pkl'\n",
    "# pickle.dump(lr, open(filename, 'wb'))"
   ]
  },
  {
   "cell_type": "code",
   "execution_count": 238,
   "id": "db03b38e",
   "metadata": {},
   "outputs": [
    {
     "name": "stderr",
     "output_type": "stream",
     "text": [
      "/common/home/projectgrps/IS460/IS460G1/jupyterlab-venv/lib/python3.7/site-packages/sklearn/linear_model/_logistic.py:818: ConvergenceWarning: lbfgs failed to converge (status=1):\n",
      "STOP: TOTAL NO. of ITERATIONS REACHED LIMIT.\n",
      "\n",
      "Increase the number of iterations (max_iter) or scale the data as shown in:\n",
      "    https://scikit-learn.org/stable/modules/preprocessing.html\n",
      "Please also refer to the documentation for alternative solver options:\n",
      "    https://scikit-learn.org/stable/modules/linear_model.html#logistic-regression\n",
      "  extra_warning_msg=_LOGISTIC_SOLVER_CONVERGENCE_MSG,\n"
     ]
    },
    {
     "name": "stdout",
     "output_type": "stream",
     "text": [
      "0.8210116731517509\n",
      " Accuracy 0.8210116731517509\n",
      " Precision 0.8285759594037425 \n",
      " Recall 0.8799259009767598 \n",
      " F1 0.8534792551453774\n"
     ]
    }
   ],
   "source": [
    "lr = LogisticRegression(multi_class='multinomial', C=0.6)\n",
    "lr.fit(X_train_bow,y_train)\n",
    "y_pred = lr.predict(X_test_bow)\n",
    "print(accuracy_score(y_test,y_pred))\n",
    "#Confusion Matrix\n",
    "lr_mn_tn, lr_mn_fp, lr_mn_fn, lr_mn_tp = confusion_matrix(y_test, y_pred).ravel()\n",
    "#measurements\n",
    "lr_mn_accuracy = (lr_mn_tp+lr_mn_tn)/(lr_mn_tp+lr_mn_tn+lr_mn_fp+lr_mn_fn)\n",
    "print(\" Accuracy\", lr_mn_accuracy)\n",
    "lr_mn_precision = lr_mn_tp/(lr_mn_tp+lr_mn_fp)\n",
    "lr_mn_recall = lr_mn_tp/(lr_mn_tp+lr_mn_fn)\n",
    "lr_mn_f1_score = (2*lr_mn_precision)*(lr_mn_recall)/(lr_mn_precision+lr_mn_recall)\n",
    "print(\" Precision\",lr_mn_precision,\"\\n\",\"Recall\",lr_mn_recall,\"\\n\",\"F1\",lr_mn_f1_score)"
   ]
  },
  {
   "cell_type": "code",
   "execution_count": 239,
   "id": "17a5d049",
   "metadata": {},
   "outputs": [
    {
     "name": "stderr",
     "output_type": "stream",
     "text": [
      "/common/home/projectgrps/IS460/IS460G1/jupyterlab-venv/lib/python3.7/site-packages/sklearn/linear_model/_logistic.py:818: ConvergenceWarning: lbfgs failed to converge (status=1):\n",
      "STOP: TOTAL NO. of ITERATIONS REACHED LIMIT.\n",
      "\n",
      "Increase the number of iterations (max_iter) or scale the data as shown in:\n",
      "    https://scikit-learn.org/stable/modules/preprocessing.html\n",
      "Please also refer to the documentation for alternative solver options:\n",
      "    https://scikit-learn.org/stable/modules/linear_model.html#logistic-regression\n",
      "  extra_warning_msg=_LOGISTIC_SOLVER_CONVERGENCE_MSG,\n"
     ]
    },
    {
     "name": "stdout",
     "output_type": "stream",
     "text": [
      "0.8213109847351092\n",
      " Accuracy 0.8213109847351092\n",
      " Precision 0.8294930875576036 \n",
      " Recall 0.8790838666217582 \n",
      " F1 0.8535688005886681\n"
     ]
    }
   ],
   "source": [
    "lr = LogisticRegression(multi_class='multinomial', C=0.7)\n",
    "lr.fit(X_train_bow,y_train)\n",
    "y_pred = lr.predict(X_test_bow)\n",
    "print(accuracy_score(y_test,y_pred))\n",
    "#Confusion Matrix\n",
    "lr_mn_tn, lr_mn_fp, lr_mn_fn, lr_mn_tp = confusion_matrix(y_test, y_pred).ravel()\n",
    "#measurements\n",
    "lr_mn_accuracy = (lr_mn_tp+lr_mn_tn)/(lr_mn_tp+lr_mn_tn+lr_mn_fp+lr_mn_fn)\n",
    "print(\" Accuracy\", lr_mn_accuracy)\n",
    "lr_mn_precision = lr_mn_tp/(lr_mn_tp+lr_mn_fp)\n",
    "lr_mn_recall = lr_mn_tp/(lr_mn_tp+lr_mn_fn)\n",
    "lr_mn_f1_score = (2*lr_mn_precision)*(lr_mn_recall)/(lr_mn_precision+lr_mn_recall)\n",
    "print(\" Precision\",lr_mn_precision,\"\\n\",\"Recall\",lr_mn_recall,\"\\n\",\"F1\",lr_mn_f1_score)"
   ]
  },
  {
   "cell_type": "code",
   "execution_count": 240,
   "id": "a9e10416",
   "metadata": {},
   "outputs": [],
   "source": [
    "# import pickle\n",
    "# # save the model to disk\n",
    "# filename = 'best logistic_regression-multinomial-c0.7.pkl'\n",
    "# pickle.dump(lr, open(filename, 'wb'))"
   ]
  },
  {
   "cell_type": "code",
   "execution_count": 241,
   "id": "ad34e804",
   "metadata": {},
   "outputs": [
    {
     "name": "stderr",
     "output_type": "stream",
     "text": [
      "/common/home/projectgrps/IS460/IS460G1/jupyterlab-venv/lib/python3.7/site-packages/sklearn/linear_model/_logistic.py:818: ConvergenceWarning: lbfgs failed to converge (status=1):\n",
      "STOP: TOTAL NO. of ITERATIONS REACHED LIMIT.\n",
      "\n",
      "Increase the number of iterations (max_iter) or scale the data as shown in:\n",
      "    https://scikit-learn.org/stable/modules/preprocessing.html\n",
      "Please also refer to the documentation for alternative solver options:\n",
      "    https://scikit-learn.org/stable/modules/linear_model.html#logistic-regression\n",
      "  extra_warning_msg=_LOGISTIC_SOLVER_CONVERGENCE_MSG,\n"
     ]
    },
    {
     "name": "stdout",
     "output_type": "stream",
     "text": [
      "0.8196148857627457\n",
      " Accuracy 0.8196148857627457\n",
      " Precision 0.8286123488224061 \n",
      " Recall 0.8768945772987538 \n",
      " F1 0.8520700376370479\n"
     ]
    }
   ],
   "source": [
    "lr = LogisticRegression(multi_class='multinomial', C=0.8)\n",
    "lr.fit(X_train_bow,y_train)\n",
    "y_pred = lr.predict(X_test_bow)\n",
    "print(accuracy_score(y_test,y_pred))\n",
    "#Confusion Matrix\n",
    "lr_mn_tn, lr_mn_fp, lr_mn_fn, lr_mn_tp = confusion_matrix(y_test, y_pred).ravel()\n",
    "#measurements\n",
    "lr_mn_accuracy = (lr_mn_tp+lr_mn_tn)/(lr_mn_tp+lr_mn_tn+lr_mn_fp+lr_mn_fn)\n",
    "print(\" Accuracy\", lr_mn_accuracy)\n",
    "lr_mn_precision = lr_mn_tp/(lr_mn_tp+lr_mn_fp)\n",
    "lr_mn_recall = lr_mn_tp/(lr_mn_tp+lr_mn_fn)\n",
    "lr_mn_f1_score = (2*lr_mn_precision)*(lr_mn_recall)/(lr_mn_precision+lr_mn_recall)\n",
    "print(\" Precision\",lr_mn_precision,\"\\n\",\"Recall\",lr_mn_recall,\"\\n\",\"F1\",lr_mn_f1_score)"
   ]
  },
  {
   "cell_type": "code",
   "execution_count": 242,
   "id": "b600e01d",
   "metadata": {},
   "outputs": [
    {
     "name": "stderr",
     "output_type": "stream",
     "text": [
      "/common/home/projectgrps/IS460/IS460G1/jupyterlab-venv/lib/python3.7/site-packages/sklearn/linear_model/_logistic.py:818: ConvergenceWarning: lbfgs failed to converge (status=1):\n",
      "STOP: TOTAL NO. of ITERATIONS REACHED LIMIT.\n",
      "\n",
      "Increase the number of iterations (max_iter) or scale the data as shown in:\n",
      "    https://scikit-learn.org/stable/modules/preprocessing.html\n",
      "Please also refer to the documentation for alternative solver options:\n",
      "    https://scikit-learn.org/stable/modules/linear_model.html#logistic-regression\n",
      "  extra_warning_msg=_LOGISTIC_SOLVER_CONVERGENCE_MSG,\n"
     ]
    },
    {
     "name": "stdout",
     "output_type": "stream",
     "text": [
      "0.818916492068243\n",
      " Accuracy 0.818916492068243\n",
      " Precision 0.829050279329609 \n",
      " Recall 0.8747052879757494 \n",
      " F1 0.8512660821109563\n"
     ]
    }
   ],
   "source": [
    "lr = LogisticRegression(multi_class='multinomial', C=0.9)\n",
    "lr.fit(X_train_bow,y_train)\n",
    "y_pred = lr.predict(X_test_bow)\n",
    "print(accuracy_score(y_test,y_pred))\n",
    "#Confusion Matrix\n",
    "lr_mn_tn, lr_mn_fp, lr_mn_fn, lr_mn_tp = confusion_matrix(y_test, y_pred).ravel()\n",
    "#measurements\n",
    "lr_mn_accuracy = (lr_mn_tp+lr_mn_tn)/(lr_mn_tp+lr_mn_tn+lr_mn_fp+lr_mn_fn)\n",
    "print(\" Accuracy\", lr_mn_accuracy)\n",
    "lr_mn_precision = lr_mn_tp/(lr_mn_tp+lr_mn_fp)\n",
    "lr_mn_recall = lr_mn_tp/(lr_mn_tp+lr_mn_fn)\n",
    "lr_mn_f1_score = (2*lr_mn_precision)*(lr_mn_recall)/(lr_mn_precision+lr_mn_recall)\n",
    "print(\" Precision\",lr_mn_precision,\"\\n\",\"Recall\",lr_mn_recall,\"\\n\",\"F1\",lr_mn_f1_score)"
   ]
  },
  {
   "cell_type": "markdown",
   "id": "6f88e366",
   "metadata": {},
   "source": [
    "## Best Logistic Regression Model <a class=\"anchor\" id=\"nineth-bullet\"></a>"
   ]
  },
  {
   "cell_type": "markdown",
   "id": "38142fb7",
   "metadata": {},
   "source": [
    "## Up till here, Logistic Regression OVR with c=0.2 is still the best so far, with F1 of 0.8566385880465301. We will now train it and save it as our best logistic regression model\n"
   ]
  },
  {
   "cell_type": "code",
   "execution_count": 243,
   "id": "5e34dffa",
   "metadata": {},
   "outputs": [
    {
     "name": "stdout",
     "output_type": "stream",
     "text": [
      "0.8217100668462536\n",
      " Accuracy 0.8217100668462536\n",
      " Precision 0.817986823962004 \n",
      " Recall 0.8991242842707983 \n",
      " F1 0.8566385880465301\n"
     ]
    }
   ],
   "source": [
    "lr = LogisticRegression(multi_class='ovr', C=0.2)\n",
    "lr.fit(X_train_bow,y_train)\n",
    "y_pred = lr.predict(X_test_bow)\n",
    "print(accuracy_score(y_test,y_pred))\n",
    "#Confusion Matrix\n",
    "lr_mn_tn, lr_mn_fp, lr_mn_fn, lr_mn_tp = confusion_matrix(y_test, y_pred).ravel()\n",
    "#measurements\n",
    "lr_mn_accuracy = (lr_mn_tp+lr_mn_tn)/(lr_mn_tp+lr_mn_tn+lr_mn_fp+lr_mn_fn)\n",
    "print(\" Accuracy\", lr_mn_accuracy)\n",
    "lr_mn_precision = lr_mn_tp/(lr_mn_tp+lr_mn_fp)\n",
    "lr_mn_recall = lr_mn_tp/(lr_mn_tp+lr_mn_fn)\n",
    "lr_mn_f1_score = (2*lr_mn_precision)*(lr_mn_recall)/(lr_mn_precision+lr_mn_recall)\n",
    "print(\" Precision\",lr_mn_precision,\"\\n\",\"Recall\",lr_mn_recall,\"\\n\",\"F1\",lr_mn_f1_score)"
   ]
  },
  {
   "cell_type": "code",
   "execution_count": 244,
   "id": "b3b51a83",
   "metadata": {},
   "outputs": [],
   "source": [
    "import pickle\n",
    "# save the model to disk\n",
    "filename = 'BEST LR OVR C0.2.pkl'\n",
    "pickle.dump(lr, open(filename, 'wb'))"
   ]
  },
  {
   "cell_type": "markdown",
   "id": "36688f8c",
   "metadata": {},
   "source": [
    "## KNN Classifier <a class=\"anchor\" id=\"tenth-bullet\"></a>"
   ]
  },
  {
   "cell_type": "markdown",
   "id": "d4fcfcc0",
   "metadata": {},
   "source": [
    "KNN takes very long to predict and give lower score, hence we will not be using K-NN even thought its F1 Score is not bad"
   ]
  },
  {
   "cell_type": "code",
   "execution_count": 245,
   "id": "7b86bff9",
   "metadata": {},
   "outputs": [],
   "source": [
    "from sklearn.neighbors import KNeighborsClassifier"
   ]
  },
  {
   "cell_type": "code",
   "execution_count": 246,
   "id": "c35f9f8e",
   "metadata": {},
   "outputs": [],
   "source": [
    "neigh = KNeighborsClassifier(n_neighbors=5)\n",
    "neigh.fit(X_train_bow, y_train)\n",
    "y_pred = neigh.predict(X_test_bow)"
   ]
  },
  {
   "cell_type": "code",
   "execution_count": 247,
   "id": "16f1af8f",
   "metadata": {},
   "outputs": [
    {
     "name": "stdout",
     "output_type": "stream",
     "text": [
      "0.7228374738102364\n",
      " Accuracy 0.7228374738102364\n",
      " Precision 0.7274690469334869 \n",
      " Recall 0.8509599191647019 \n",
      " F1 0.7843837317603229\n"
     ]
    }
   ],
   "source": [
    "print(accuracy_score(y_test,y_pred))\n",
    "#Confusion Matrix\n",
    "lr_mn_tn, lr_mn_fp, lr_mn_fn, lr_mn_tp = confusion_matrix(y_test, y_pred).ravel()\n",
    "#measurements\n",
    "lr_mn_accuracy = (lr_mn_tp+lr_mn_tn)/(lr_mn_tp+lr_mn_tn+lr_mn_fp+lr_mn_fn)\n",
    "print(\" Accuracy\", lr_mn_accuracy)\n",
    "lr_mn_precision = lr_mn_tp/(lr_mn_tp+lr_mn_fp)\n",
    "lr_mn_recall = lr_mn_tp/(lr_mn_tp+lr_mn_fn)\n",
    "lr_mn_f1_score = (2*lr_mn_precision)*(lr_mn_recall)/(lr_mn_precision+lr_mn_recall)\n",
    "print(\" Precision\",lr_mn_precision,\"\\n\",\"Recall\",lr_mn_recall,\"\\n\",\"F1\",lr_mn_f1_score)"
   ]
  },
  {
   "cell_type": "markdown",
   "id": "18310c9b",
   "metadata": {},
   "source": [
    "## Linear SVC <a class=\"anchor\" id=\"eleventh-bullet\"></a>"
   ]
  },
  {
   "cell_type": "code",
   "execution_count": 248,
   "id": "24563b82",
   "metadata": {},
   "outputs": [],
   "source": [
    "from sklearn.svm import LinearSVC"
   ]
  },
  {
   "cell_type": "code",
   "execution_count": 249,
   "id": "27d7dc39",
   "metadata": {},
   "outputs": [
    {
     "data": {
      "text/plain": [
       "LinearSVC(random_state=0)"
      ]
     },
     "execution_count": 249,
     "metadata": {},
     "output_type": "execute_result"
    }
   ],
   "source": [
    "clf=LinearSVC(random_state=0)\n",
    "clf.fit(X_train_bow, y_train)"
   ]
  },
  {
   "cell_type": "code",
   "execution_count": 250,
   "id": "c470d873",
   "metadata": {},
   "outputs": [
    {
     "name": "stdout",
     "output_type": "stream",
     "text": [
      "0.8041504539559015\n",
      " Accuracy 0.8041504539559015\n",
      " Precision 0.8232232883395674 \n",
      " Recall 0.8524755810037049 \n",
      " F1 0.8375941093737073\n"
     ]
    }
   ],
   "source": [
    "y_pred = clf.predict(X_test_bow)\n",
    "y_pred\n",
    "print(accuracy_score(y_test,y_pred))\n",
    "#Confusion Matrix\n",
    "lr_mn_tn, lr_mn_fp, lr_mn_fn, lr_mn_tp = confusion_matrix(y_test, y_pred).ravel()\n",
    "#measurements\n",
    "lr_mn_accuracy = (lr_mn_tp+lr_mn_tn)/(lr_mn_tp+lr_mn_tn+lr_mn_fp+lr_mn_fn)\n",
    "print(\" Accuracy\", lr_mn_accuracy)\n",
    "lr_mn_precision = lr_mn_tp/(lr_mn_tp+lr_mn_fp)\n",
    "lr_mn_recall = lr_mn_tp/(lr_mn_tp+lr_mn_fn)\n",
    "lr_mn_f1_score = (2*lr_mn_precision)*(lr_mn_recall)/(lr_mn_precision+lr_mn_recall)\n",
    "print(\" Precision\",lr_mn_precision,\"\\n\",\"Recall\",lr_mn_recall,\"\\n\",\"F1\",lr_mn_f1_score)"
   ]
  },
  {
   "cell_type": "markdown",
   "id": "1d3d784b",
   "metadata": {},
   "source": [
    "## Fine Tuning Linear SVC with GridSearchCV <a class=\"anchor\" id=\"12-bullet\"></a>"
   ]
  },
  {
   "cell_type": "code",
   "execution_count": 251,
   "id": "07dd400c",
   "metadata": {},
   "outputs": [],
   "source": [
    "from sklearn.model_selection import GridSearchCV"
   ]
  },
  {
   "cell_type": "code",
   "execution_count": 252,
   "id": "e85a9d9b",
   "metadata": {},
   "outputs": [
    {
     "name": "stderr",
     "output_type": "stream",
     "text": [
      "/common/home/projectgrps/IS460/IS460G1/jupyterlab-venv/lib/python3.7/site-packages/sklearn/model_selection/_validation.py:372: FitFailedWarning: \n",
      "5 fits failed out of a total of 60.\n",
      "The score on these train-test partitions for these parameters will be set to nan.\n",
      "If these failures are not expected, you can try to debug them by setting error_score='raise'.\n",
      "\n",
      "Below are more details about the failures:\n",
      "--------------------------------------------------------------------------------\n",
      "5 fits failed with the following error:\n",
      "Traceback (most recent call last):\n",
      "  File \"/common/home/projectgrps/IS460/IS460G1/jupyterlab-venv/lib/python3.7/site-packages/sklearn/model_selection/_validation.py\", line 680, in _fit_and_score\n",
      "    estimator.fit(X_train, y_train, **fit_params)\n",
      "  File \"/common/home/projectgrps/IS460/IS460G1/jupyterlab-venv/lib/python3.7/site-packages/sklearn/svm/_classes.py\", line 272, in fit\n",
      "    sample_weight=sample_weight,\n",
      "  File \"/common/home/projectgrps/IS460/IS460G1/jupyterlab-venv/lib/python3.7/site-packages/sklearn/svm/_base.py\", line 1198, in _fit_liblinear\n",
      "    sample_weight,\n",
      "  File \"sklearn/svm/_liblinear.pyx\", line 52, in sklearn.svm._liblinear.train_wrap\n",
      "ValueError: b'C <= 0'\n",
      "\n",
      "  warnings.warn(some_fits_failed_message, FitFailedWarning)\n",
      "/common/home/projectgrps/IS460/IS460G1/jupyterlab-venv/lib/python3.7/site-packages/sklearn/model_selection/_search.py:972: UserWarning: One or more of the test scores are non-finite: [0.62442938 0.70551998 0.81010701 0.81786438 0.81916148 0.81721592\n",
      " 0.81517059 0.8121026         nan 0.7897036  0.80843599 0.80197566]\n",
      "  category=UserWarning,\n",
      "/common/home/projectgrps/IS460/IS460G1/jupyterlab-venv/lib/python3.7/site-packages/sklearn/model_selection/_search.py:972: UserWarning: One or more of the train scores are non-finite: [0.62559552 0.71505451 0.8451897  0.86780699 0.92781423 0.94304208\n",
      " 0.95212143 0.96229203        nan 0.98346886 0.97070415 0.97710833]\n",
      "  category=UserWarning,\n"
     ]
    },
    {
     "data": {
      "text/plain": [
       "GridSearchCV(cv=5, estimator=LinearSVC(max_iter=50000, random_state=0),\n",
       "             param_grid={'C': [0.0001, 0.001, 0.01, 0.02, 0.1, 0.15, 0.2, 0.3,\n",
       "                               0, 4, 0.5, 1.0]},\n",
       "             return_train_score=True)"
      ]
     },
     "execution_count": 252,
     "metadata": {},
     "output_type": "execute_result"
    }
   ],
   "source": [
    "param_grid = {'C':[0.0001, 0.001, 0.01, 0.02, 0.1,0.15,0.2,0.3,0,4, 0.5, 1.0]}\n",
    "linearSVC = GridSearchCV(LinearSVC(random_state=0, max_iter=50000),param_grid,cv=5,return_train_score=True)\n",
    "linearSVC.fit(X_train_bow, y_train)"
   ]
  },
  {
   "cell_type": "code",
   "execution_count": 253,
   "id": "7c040d66",
   "metadata": {},
   "outputs": [
    {
     "name": "stdout",
     "output_type": "stream",
     "text": [
      "{'C': 0.1}\n"
     ]
    }
   ],
   "source": [
    "#0.1 is the best\n",
    "print(linearSVC.best_params_)"
   ]
  },
  {
   "cell_type": "code",
   "execution_count": 254,
   "id": "6f4196e9",
   "metadata": {},
   "outputs": [
    {
     "data": {
      "text/plain": [
       "LinearSVC(C=0.1, max_iter=50000, random_state=0)"
      ]
     },
     "execution_count": 254,
     "metadata": {},
     "output_type": "execute_result"
    }
   ],
   "source": [
    "clf=LinearSVC(random_state=0,C=0.1, max_iter=50000)\n",
    "clf.fit(X_train_bow, y_train)"
   ]
  },
  {
   "cell_type": "code",
   "execution_count": 255,
   "id": "92d43fb6",
   "metadata": {},
   "outputs": [
    {
     "name": "stdout",
     "output_type": "stream",
     "text": [
      "0.8212112142073231\n",
      " Accuracy 0.8212112142073231\n",
      " Precision 0.8265595463137996 \n",
      " Recall 0.8836308521387672 \n",
      " F1 0.8541429269086764\n"
     ]
    }
   ],
   "source": [
    "y_pred = clf.predict(X_test_bow)\n",
    "y_pred\n",
    "print(accuracy_score(y_test,y_pred))\n",
    "#Confusion Matrix\n",
    "lr_mn_tn, lr_mn_fp, lr_mn_fn, lr_mn_tp = confusion_matrix(y_test, y_pred).ravel()\n",
    "#measurements\n",
    "lr_mn_accuracy = (lr_mn_tp+lr_mn_tn)/(lr_mn_tp+lr_mn_tn+lr_mn_fp+lr_mn_fn)\n",
    "print(\" Accuracy\", lr_mn_accuracy)\n",
    "lr_mn_precision = lr_mn_tp/(lr_mn_tp+lr_mn_fp)\n",
    "lr_mn_recall = lr_mn_tp/(lr_mn_tp+lr_mn_fn)\n",
    "lr_mn_f1_score = (2*lr_mn_precision)*(lr_mn_recall)/(lr_mn_precision+lr_mn_recall)\n",
    "print(\" Precision\",lr_mn_precision,\"\\n\",\"Recall\",lr_mn_recall,\"\\n\",\"F1\",lr_mn_f1_score)"
   ]
  },
  {
   "cell_type": "markdown",
   "id": "d4152377",
   "metadata": {},
   "source": [
    "# Can we improve even more? Let's try the numbers around 0.1"
   ]
  },
  {
   "cell_type": "code",
   "execution_count": 256,
   "id": "0293662c",
   "metadata": {},
   "outputs": [
    {
     "data": {
      "text/plain": [
       "GridSearchCV(cv=5, estimator=LinearSVC(max_iter=50000, random_state=0),\n",
       "             param_grid={'C': [0.05, 0.06, 0.07, 0.08, 0.09, 0.1, 0.11, 0.12,\n",
       "                               0.13, 0.14, 0.15]},\n",
       "             return_train_score=True)"
      ]
     },
     "execution_count": 256,
     "metadata": {},
     "output_type": "execute_result"
    }
   ],
   "source": [
    "param_grid = {'C':[0.05,0.06,0.07,0.08,0.09,0.1,0.11,0.12,0.13,0.14,0.15]}\n",
    "linearSVC = GridSearchCV(LinearSVC(random_state=0, max_iter=50000),param_grid,cv=5,return_train_score=True)\n",
    "linearSVC.fit(X_train_bow, y_train)"
   ]
  },
  {
   "cell_type": "code",
   "execution_count": 258,
   "id": "02ed1ef2",
   "metadata": {},
   "outputs": [
    {
     "name": "stdout",
     "output_type": "stream",
     "text": [
      "{'C': 0.06}\n"
     ]
    }
   ],
   "source": [
    "#0.1 is the best\n",
    "print(linearSVC.best_params_)"
   ]
  },
  {
   "cell_type": "code",
   "execution_count": 259,
   "id": "cc848735",
   "metadata": {},
   "outputs": [
    {
     "name": "stdout",
     "output_type": "stream",
     "text": [
      "0.8234061658186171\n",
      " Accuracy 0.8234061658186171\n",
      " Precision 0.8251170046801872 \n",
      " Recall 0.8907039407207814 \n",
      " F1 0.8566569484936832\n"
     ]
    }
   ],
   "source": [
    "clf=LinearSVC(random_state=0,C=0.06, max_iter=50000)\n",
    "clf.fit(X_train_bow, y_train)\n",
    "y_pred = clf.predict(X_test_bow)\n",
    "y_pred\n",
    "print(accuracy_score(y_test,y_pred))\n",
    "#Confusion Matrix\n",
    "lr_mn_tn, lr_mn_fp, lr_mn_fn, lr_mn_tp = confusion_matrix(y_test, y_pred).ravel()\n",
    "#measurements\n",
    "lr_mn_accuracy = (lr_mn_tp+lr_mn_tn)/(lr_mn_tp+lr_mn_tn+lr_mn_fp+lr_mn_fn)\n",
    "print(\" Accuracy\", lr_mn_accuracy)\n",
    "lr_mn_precision = lr_mn_tp/(lr_mn_tp+lr_mn_fp)\n",
    "lr_mn_recall = lr_mn_tp/(lr_mn_tp+lr_mn_fn)\n",
    "lr_mn_f1_score = (2*lr_mn_precision)*(lr_mn_recall)/(lr_mn_precision+lr_mn_recall)\n",
    "print(\" Precision\",lr_mn_precision,\"\\n\",\"Recall\",lr_mn_recall,\"\\n\",\"F1\",lr_mn_f1_score)"
   ]
  },
  {
   "cell_type": "markdown",
   "id": "d59dd550",
   "metadata": {},
   "source": [
    "# Can we improve even more? Let's try the numbers around 0.06"
   ]
  },
  {
   "cell_type": "code",
   "execution_count": 260,
   "id": "f15b2f2e",
   "metadata": {},
   "outputs": [
    {
     "data": {
      "text/plain": [
       "GridSearchCV(cv=5, estimator=LinearSVC(max_iter=50000, random_state=0),\n",
       "             param_grid={'C': [0.06, 0.055, 0.065]}, return_train_score=True)"
      ]
     },
     "execution_count": 260,
     "metadata": {},
     "output_type": "execute_result"
    }
   ],
   "source": [
    "param_grid = {'C':[0.06,0.055,0.065]}\n",
    "linearSVC = GridSearchCV(LinearSVC(random_state=0, max_iter=50000),param_grid,cv=5,return_train_score=True)\n",
    "linearSVC.fit(X_train_bow, y_train)"
   ]
  },
  {
   "cell_type": "code",
   "execution_count": 261,
   "id": "e10b813d",
   "metadata": {},
   "outputs": [
    {
     "name": "stdout",
     "output_type": "stream",
     "text": [
      "{'C': 0.055}\n"
     ]
    }
   ],
   "source": [
    "#0.1 is the best\n",
    "print(linearSVC.best_params_)"
   ]
  },
  {
   "cell_type": "code",
   "execution_count": 262,
   "id": "56d99942",
   "metadata": {},
   "outputs": [
    {
     "name": "stdout",
     "output_type": "stream",
     "text": [
      "0.8239050184575476\n",
      " Accuracy 0.8239050184575476\n",
      " Precision 0.8250506309393987 \n",
      " Recall 0.8918827888177837 \n",
      " F1 0.8571659787974427\n"
     ]
    }
   ],
   "source": [
    "clf=LinearSVC(random_state=0,C=0.055, max_iter=50000)\n",
    "clf.fit(X_train_bow, y_train)\n",
    "y_pred = clf.predict(X_test_bow)\n",
    "y_pred\n",
    "print(accuracy_score(y_test,y_pred))\n",
    "#Confusion Matrix\n",
    "lr_mn_tn, lr_mn_fp, lr_mn_fn, lr_mn_tp = confusion_matrix(y_test, y_pred).ravel()\n",
    "#measurements\n",
    "lr_mn_accuracy = (lr_mn_tp+lr_mn_tn)/(lr_mn_tp+lr_mn_tn+lr_mn_fp+lr_mn_fn)\n",
    "print(\" Accuracy\", lr_mn_accuracy)\n",
    "lr_mn_precision = lr_mn_tp/(lr_mn_tp+lr_mn_fp)\n",
    "lr_mn_recall = lr_mn_tp/(lr_mn_tp+lr_mn_fn)\n",
    "lr_mn_f1_score = (2*lr_mn_precision)*(lr_mn_recall)/(lr_mn_precision+lr_mn_recall)\n",
    "print(\" Precision\",lr_mn_precision,\"\\n\",\"Recall\",lr_mn_recall,\"\\n\",\"F1\",lr_mn_f1_score)"
   ]
  },
  {
   "cell_type": "code",
   "execution_count": 263,
   "id": "84f26c13",
   "metadata": {},
   "outputs": [],
   "source": [
    "import pickle\n",
    "# save the model to disk\n",
    "filename = 'best SVC (selected model).pkl'\n",
    "pickle.dump(clf, open(filename, 'wb'))"
   ]
  },
  {
   "cell_type": "markdown",
   "id": "a498dae2",
   "metadata": {},
   "source": [
    "We will stop here"
   ]
  },
  {
   "cell_type": "markdown",
   "id": "dc234627",
   "metadata": {},
   "source": [
    "## Ensemble Methods <a class=\"anchor\" id=\"ensemble-bullet\"></a>"
   ]
  },
  {
   "cell_type": "markdown",
   "id": "46eed000",
   "metadata": {},
   "source": [
    "## ADA Boost with logistic regression (best LR from earlier) <a class=\"anchor\" id=\"13-bullet\"></a>"
   ]
  },
  {
   "cell_type": "code",
   "execution_count": 264,
   "id": "052d3530",
   "metadata": {},
   "outputs": [
    {
     "data": {
      "text/plain": [
       "AdaBoostClassifier(base_estimator=LogisticRegression(C=0.2, multi_class='ovr'),\n",
       "                   n_estimators=100, random_state=0)"
      ]
     },
     "execution_count": 264,
     "metadata": {},
     "output_type": "execute_result"
    }
   ],
   "source": [
    "from sklearn.ensemble import AdaBoostClassifier\n",
    "from sklearn.linear_model import LogisticRegression\n",
    "clf = AdaBoostClassifier(base_estimator=LogisticRegression(multi_class='ovr', C=0.2),n_estimators=100, random_state=0)\n",
    "clf.fit(X_train_bow, y_train)"
   ]
  },
  {
   "cell_type": "code",
   "execution_count": 265,
   "id": "51b8ef1f",
   "metadata": {},
   "outputs": [
    {
     "data": {
      "text/plain": [
       "array([1, 1, 1, ..., 1, 1, 1])"
      ]
     },
     "execution_count": 265,
     "metadata": {},
     "output_type": "execute_result"
    }
   ],
   "source": [
    "from sklearn.metrics import accuracy_score,confusion_matrix\n",
    "y_pred = clf.predict(X_test_bow)\n",
    "y_pred"
   ]
  },
  {
   "cell_type": "code",
   "execution_count": 266,
   "id": "385678e1",
   "metadata": {},
   "outputs": [
    {
     "name": "stdout",
     "output_type": "stream",
     "text": [
      "0.6117928763843161\n",
      " Accuracy 0.6117928763843161\n",
      " Precision 0.6048990468381674 \n",
      " Recall 0.9939373526439879 \n",
      " F1 0.7520866517999362\n"
     ]
    }
   ],
   "source": [
    "print(accuracy_score(y_test,y_pred))\n",
    "#Confusion Matrix\n",
    "lr_mn_tn, lr_mn_fp, lr_mn_fn, lr_mn_tp = confusion_matrix(y_test, y_pred).ravel()\n",
    "#measurements\n",
    "lr_mn_accuracy = (lr_mn_tp+lr_mn_tn)/(lr_mn_tp+lr_mn_tn+lr_mn_fp+lr_mn_fn)\n",
    "print(\" Accuracy\", lr_mn_accuracy)\n",
    "lr_mn_precision = lr_mn_tp/(lr_mn_tp+lr_mn_fp)\n",
    "lr_mn_recall = lr_mn_tp/(lr_mn_tp+lr_mn_fn)\n",
    "lr_mn_f1_score = (2*lr_mn_precision)*(lr_mn_recall)/(lr_mn_precision+lr_mn_recall)\n",
    "print(\" Precision\",lr_mn_precision,\"\\n\",\"Recall\",lr_mn_recall,\"\\n\",\"F1\",lr_mn_f1_score)"
   ]
  },
  {
   "cell_type": "markdown",
   "id": "d0675099",
   "metadata": {},
   "source": [
    "## ADA Boost with Naive Bayes <a class=\"anchor\" id=\"14-bullet\"></a>"
   ]
  },
  {
   "cell_type": "code",
   "execution_count": 62,
   "id": "b42320f2",
   "metadata": {},
   "outputs": [
    {
     "data": {
      "text/plain": [
       "AdaBoostClassifier(base_estimator=MultinomialNB(), n_estimators=100,\n",
       "                   random_state=0)"
      ]
     },
     "execution_count": 62,
     "metadata": {},
     "output_type": "execute_result"
    }
   ],
   "source": [
    "from sklearn.ensemble import AdaBoostClassifier\n",
    "from sklearn.naive_bayes import MultinomialNB\n",
    "clf = AdaBoostClassifier(base_estimator=MultinomialNB(),n_estimators=100, random_state=0)\n",
    "clf.fit(X_train_bow, y_train)"
   ]
  },
  {
   "cell_type": "code",
   "execution_count": 63,
   "id": "5a5093e3",
   "metadata": {},
   "outputs": [
    {
     "data": {
      "text/plain": [
       "array([0, 1, 1, ..., 1, 1, 1])"
      ]
     },
     "execution_count": 63,
     "metadata": {},
     "output_type": "execute_result"
    }
   ],
   "source": [
    "from sklearn.metrics import accuracy_score,confusion_matrix\n",
    "y_pred = clf.predict(X_test_bow)\n",
    "y_pred"
   ]
  },
  {
   "cell_type": "code",
   "execution_count": 64,
   "id": "b810ecfb",
   "metadata": {},
   "outputs": [
    {
     "name": "stdout",
     "output_type": "stream",
     "text": [
      "0.699590940836077\n",
      " Accuracy 0.699590940836077\n",
      " Precision 0.6797690701388036 \n",
      " Recall 0.931963624115864 \n",
      " F1 0.786135378933163\n"
     ]
    }
   ],
   "source": [
    "print(accuracy_score(y_test,y_pred))\n",
    "#Confusion Matrix\n",
    "lr_mn_tn, lr_mn_fp, lr_mn_fn, lr_mn_tp = confusion_matrix(y_test, y_pred).ravel()\n",
    "#measurements\n",
    "lr_mn_accuracy = (lr_mn_tp+lr_mn_tn)/(lr_mn_tp+lr_mn_tn+lr_mn_fp+lr_mn_fn)\n",
    "print(\" Accuracy\", lr_mn_accuracy)\n",
    "lr_mn_precision = lr_mn_tp/(lr_mn_tp+lr_mn_fp)\n",
    "lr_mn_recall = lr_mn_tp/(lr_mn_tp+lr_mn_fn)\n",
    "lr_mn_f1_score = (2*lr_mn_precision)*(lr_mn_recall)/(lr_mn_precision+lr_mn_recall)\n",
    "print(\" Precision\",lr_mn_precision,\"\\n\",\"Recall\",lr_mn_recall,\"\\n\",\"F1\",lr_mn_f1_score)"
   ]
  },
  {
   "cell_type": "markdown",
   "id": "e54d5d4c",
   "metadata": {},
   "source": [
    "## ADA Boost with Best Linear SVC <a class=\"anchor\" id=\"15-bullet\"></a>"
   ]
  },
  {
   "cell_type": "code",
   "execution_count": 68,
   "id": "80aacadb",
   "metadata": {},
   "outputs": [
    {
     "data": {
      "text/plain": [
       "AdaBoostClassifier(algorithm='SAMME',\n",
       "                   base_estimator=LinearSVC(C=0.055, max_iter=50000,\n",
       "                                            random_state=0),\n",
       "                   n_estimators=100, random_state=0)"
      ]
     },
     "execution_count": 68,
     "metadata": {},
     "output_type": "execute_result"
    }
   ],
   "source": [
    "from sklearn.ensemble import AdaBoostClassifier\n",
    "from sklearn.svm import LinearSVC\n",
    "clf = AdaBoostClassifier(algorithm='SAMME',base_estimator=LinearSVC(random_state=0,C=0.055, max_iter=50000),n_estimators=100, random_state=0)\n",
    "clf.fit(X_train_bow, y_train)"
   ]
  },
  {
   "cell_type": "code",
   "execution_count": 69,
   "id": "e8915887",
   "metadata": {},
   "outputs": [
    {
     "data": {
      "text/plain": [
       "array([0, 1, 1, ..., 1, 1, 1])"
      ]
     },
     "execution_count": 69,
     "metadata": {},
     "output_type": "execute_result"
    }
   ],
   "source": [
    "from sklearn.metrics import accuracy_score,confusion_matrix\n",
    "y_pred = clf.predict(X_test_bow)\n",
    "y_pred"
   ]
  },
  {
   "cell_type": "code",
   "execution_count": 70,
   "id": "743bc8bb",
   "metadata": {},
   "outputs": [
    {
     "name": "stdout",
     "output_type": "stream",
     "text": [
      "0.7886860221490571\n",
      " Accuracy 0.7886860221490571\n",
      " Precision 0.8200402144772118 \n",
      " Recall 0.8241832266756484 \n",
      " F1 0.8221065009239038\n"
     ]
    }
   ],
   "source": [
    "print(accuracy_score(y_test,y_pred))\n",
    "#Confusion Matrix\n",
    "lr_mn_tn, lr_mn_fp, lr_mn_fn, lr_mn_tp = confusion_matrix(y_test, y_pred).ravel()\n",
    "#measurements\n",
    "lr_mn_accuracy = (lr_mn_tp+lr_mn_tn)/(lr_mn_tp+lr_mn_tn+lr_mn_fp+lr_mn_fn)\n",
    "print(\" Accuracy\", lr_mn_accuracy)\n",
    "lr_mn_precision = lr_mn_tp/(lr_mn_tp+lr_mn_fp)\n",
    "lr_mn_recall = lr_mn_tp/(lr_mn_tp+lr_mn_fn)\n",
    "lr_mn_f1_score = (2*lr_mn_precision)*(lr_mn_recall)/(lr_mn_precision+lr_mn_recall)\n",
    "print(\" Precision\",lr_mn_precision,\"\\n\",\"Recall\",lr_mn_recall,\"\\n\",\"F1\",lr_mn_f1_score)"
   ]
  },
  {
   "cell_type": "markdown",
   "id": "6a883a2d",
   "metadata": {},
   "source": [
    "# All ada boost model does not outperform base classifier"
   ]
  },
  {
   "cell_type": "markdown",
   "id": "eb1d6663",
   "metadata": {},
   "source": [
    "## Random Forest Classifier <a class=\"anchor\" id=\"16-bullet\"></a>"
   ]
  },
  {
   "cell_type": "code",
   "execution_count": 267,
   "id": "b6454e0d",
   "metadata": {},
   "outputs": [],
   "source": [
    "from sklearn.ensemble import RandomForestClassifier\n",
    "clf = RandomForestClassifier(max_depth=10, random_state=0)"
   ]
  },
  {
   "cell_type": "code",
   "execution_count": 268,
   "id": "44934bda",
   "metadata": {},
   "outputs": [
    {
     "data": {
      "text/plain": [
       "RandomForestClassifier(max_depth=10, random_state=0)"
      ]
     },
     "execution_count": 268,
     "metadata": {},
     "output_type": "execute_result"
    }
   ],
   "source": [
    "clf.fit(X_train_bow, y_train)"
   ]
  },
  {
   "cell_type": "code",
   "execution_count": 269,
   "id": "ff476cd7",
   "metadata": {},
   "outputs": [
    {
     "data": {
      "text/plain": [
       "array([1, 1, 1, ..., 1, 1, 1])"
      ]
     },
     "execution_count": 269,
     "metadata": {},
     "output_type": "execute_result"
    }
   ],
   "source": [
    "y_pred = clf.predict(X_test_bow)\n",
    "y_pred"
   ]
  },
  {
   "cell_type": "code",
   "execution_count": 271,
   "id": "30360f22",
   "metadata": {},
   "outputs": [
    {
     "name": "stdout",
     "output_type": "stream",
     "text": [
      "0.5925371645216003\n",
      " Accuracy 0.5925371645216003\n",
      " Precision 0.5924965076830971 \n",
      " Recall 1.0 \n",
      " F1 0.744110275689223\n"
     ]
    }
   ],
   "source": [
    "print(accuracy_score(y_test,y_pred))\n",
    "#Confusion Matrix\n",
    "lr_mn_tn, lr_mn_fp, lr_mn_fn, lr_mn_tp = confusion_matrix(y_test, y_pred).ravel()\n",
    "#measurements\n",
    "lr_mn_accuracy = (lr_mn_tp+lr_mn_tn)/(lr_mn_tp+lr_mn_tn+lr_mn_fp+lr_mn_fn)\n",
    "print(\" Accuracy\", lr_mn_accuracy)\n",
    "lr_mn_precision = lr_mn_tp/(lr_mn_tp+lr_mn_fp)\n",
    "lr_mn_recall = lr_mn_tp/(lr_mn_tp+lr_mn_fn)\n",
    "lr_mn_f1_score = (2*lr_mn_precision)*(lr_mn_recall)/(lr_mn_precision+lr_mn_recall)\n",
    "print(\" Precision\",lr_mn_precision,\"\\n\",\"Recall\",lr_mn_recall,\"\\n\",\"F1\",lr_mn_f1_score)"
   ]
  },
  {
   "cell_type": "code",
   "execution_count": 272,
   "id": "bac5e031",
   "metadata": {},
   "outputs": [
    {
     "data": {
      "text/plain": [
       "array([1, 1, 1, ..., 1, 1, 1])"
      ]
     },
     "execution_count": 272,
     "metadata": {},
     "output_type": "execute_result"
    }
   ],
   "source": [
    "from sklearn.ensemble import RandomForestClassifier\n",
    "clf = RandomForestClassifier(max_depth=20, random_state=0)\n",
    "clf.fit(X_train_bow, y_train)\n",
    "y_pred = clf.predict(X_test_bow)\n",
    "y_pred"
   ]
  },
  {
   "cell_type": "code",
   "execution_count": 273,
   "id": "c534a27a",
   "metadata": {},
   "outputs": [
    {
     "name": "stdout",
     "output_type": "stream",
     "text": [
      "0.5996208719944128\n",
      " Accuracy 0.5996208719944128\n",
      " Precision 0.5968602193821073 \n",
      " Recall 0.9988211519029977 \n",
      " F1 0.7472125984251969\n"
     ]
    }
   ],
   "source": [
    "print(accuracy_score(y_test,y_pred))\n",
    "#Confusion Matrix\n",
    "lr_mn_tn, lr_mn_fp, lr_mn_fn, lr_mn_tp = confusion_matrix(y_test, y_pred).ravel()\n",
    "#measurements\n",
    "lr_mn_accuracy = (lr_mn_tp+lr_mn_tn)/(lr_mn_tp+lr_mn_tn+lr_mn_fp+lr_mn_fn)\n",
    "print(\" Accuracy\", lr_mn_accuracy)\n",
    "lr_mn_precision = lr_mn_tp/(lr_mn_tp+lr_mn_fp)\n",
    "lr_mn_recall = lr_mn_tp/(lr_mn_tp+lr_mn_fn)\n",
    "lr_mn_f1_score = (2*lr_mn_precision)*(lr_mn_recall)/(lr_mn_precision+lr_mn_recall)\n",
    "print(\" Precision\",lr_mn_precision,\"\\n\",\"Recall\",lr_mn_recall,\"\\n\",\"F1\",lr_mn_f1_score)"
   ]
  },
  {
   "cell_type": "code",
   "execution_count": 274,
   "id": "336206e6",
   "metadata": {},
   "outputs": [
    {
     "name": "stdout",
     "output_type": "stream",
     "text": [
      "0.7762147061757957\n",
      " Accuracy 0.7762147061757957\n",
      " Precision 0.7449290733130054 \n",
      " Recall 0.9462782081508926 \n",
      " F1 0.8336176841480603\n"
     ]
    }
   ],
   "source": [
    "from sklearn.ensemble import RandomForestClassifier\n",
    "clf = RandomForestClassifier(max_depth=100, random_state=0)\n",
    "clf.fit(X_train_bow, y_train)\n",
    "y_pred = clf.predict(X_test_bow)\n",
    "y_pred\n",
    "print(accuracy_score(y_test,y_pred))\n",
    "#Confusion Matrix\n",
    "lr_mn_tn, lr_mn_fp, lr_mn_fn, lr_mn_tp = confusion_matrix(y_test, y_pred).ravel()\n",
    "#measurements\n",
    "lr_mn_accuracy = (lr_mn_tp+lr_mn_tn)/(lr_mn_tp+lr_mn_tn+lr_mn_fp+lr_mn_fn)\n",
    "print(\" Accuracy\", lr_mn_accuracy)\n",
    "lr_mn_precision = lr_mn_tp/(lr_mn_tp+lr_mn_fp)\n",
    "lr_mn_recall = lr_mn_tp/(lr_mn_tp+lr_mn_fn)\n",
    "lr_mn_f1_score = (2*lr_mn_precision)*(lr_mn_recall)/(lr_mn_precision+lr_mn_recall)\n",
    "print(\" Precision\",lr_mn_precision,\"\\n\",\"Recall\",lr_mn_recall,\"\\n\",\"F1\",lr_mn_f1_score)"
   ]
  },
  {
   "cell_type": "code",
   "execution_count": 275,
   "id": "eb852f1a",
   "metadata": {},
   "outputs": [],
   "source": [
    "import pickle\n",
    "# save the model to disk\n",
    "filename = 'best RF.pkl'\n",
    "pickle.dump(clf, open(filename, 'wb'))"
   ]
  },
  {
   "cell_type": "markdown",
   "id": "ab0e1a53",
   "metadata": {},
   "source": [
    "## GradientBoostingClassifier <a class=\"anchor\" id=\"17-bullet\"></a>"
   ]
  },
  {
   "cell_type": "code",
   "execution_count": 54,
   "id": "ad58d11a",
   "metadata": {},
   "outputs": [],
   "source": [
    "from sklearn.ensemble import GradientBoostingClassifier\n",
    "from sklearn.metrics import accuracy_score,confusion_matrix"
   ]
  },
  {
   "cell_type": "code",
   "execution_count": 55,
   "id": "70920d5c",
   "metadata": {},
   "outputs": [
    {
     "data": {
      "text/plain": [
       "GradientBoostingClassifier(learning_rate=1.0, max_depth=1, n_estimators=10,\n",
       "                           random_state=0)"
      ]
     },
     "execution_count": 55,
     "metadata": {},
     "output_type": "execute_result"
    }
   ],
   "source": [
    "clf = GradientBoostingClassifier(n_estimators=10, learning_rate=1.0, max_depth=1, random_state=0)\n",
    "clf.fit(X_train_bow, y_train)"
   ]
  },
  {
   "cell_type": "code",
   "execution_count": 56,
   "id": "c64b3eca",
   "metadata": {},
   "outputs": [
    {
     "name": "stdout",
     "output_type": "stream",
     "text": [
      "0.658385712860421\n",
      " Accuracy 0.658385712860421\n",
      " Precision 0.6491103202846975 \n",
      " Recall 0.9215223981138431 \n",
      " F1 0.7616926503340758\n"
     ]
    }
   ],
   "source": [
    "y_pred = clf.predict(X_test_bow)\n",
    "y_pred\n",
    "print(accuracy_score(y_test,y_pred))\n",
    "#Confusion Matrix\n",
    "lr_mn_tn, lr_mn_fp, lr_mn_fn, lr_mn_tp = confusion_matrix(y_test, y_pred).ravel()\n",
    "#measurements\n",
    "lr_mn_accuracy = (lr_mn_tp+lr_mn_tn)/(lr_mn_tp+lr_mn_tn+lr_mn_fp+lr_mn_fn)\n",
    "print(\" Accuracy\", lr_mn_accuracy)\n",
    "lr_mn_precision = lr_mn_tp/(lr_mn_tp+lr_mn_fp)\n",
    "lr_mn_recall = lr_mn_tp/(lr_mn_tp+lr_mn_fn)\n",
    "lr_mn_f1_score = (2*lr_mn_precision)*(lr_mn_recall)/(lr_mn_precision+lr_mn_recall)\n",
    "print(\" Precision\",lr_mn_precision,\"\\n\",\"Recall\",lr_mn_recall,\"\\n\",\"F1\",lr_mn_f1_score)"
   ]
  },
  {
   "cell_type": "code",
   "execution_count": 57,
   "id": "d8b7057d",
   "metadata": {},
   "outputs": [
    {
     "name": "stdout",
     "output_type": "stream",
     "text": [
      "0.7642422428414646\n",
      " Accuracy 0.7642422428414646\n",
      " Precision 0.7482983747742742 \n",
      " Recall 0.9072078140788145 \n",
      " F1 0.8201263606607293\n"
     ]
    }
   ],
   "source": [
    "clf = GradientBoostingClassifier(n_estimators=100, learning_rate=1.0, max_depth=1, random_state=0)\n",
    "clf.fit(X_train_bow, y_train)\n",
    "y_pred = clf.predict(X_test_bow)\n",
    "y_pred\n",
    "print(accuracy_score(y_test,y_pred))\n",
    "#Confusion Matrix\n",
    "lr_mn_tn, lr_mn_fp, lr_mn_fn, lr_mn_tp = confusion_matrix(y_test, y_pred).ravel()\n",
    "#measurements\n",
    "lr_mn_accuracy = (lr_mn_tp+lr_mn_tn)/(lr_mn_tp+lr_mn_tn+lr_mn_fp+lr_mn_fn)\n",
    "print(\" Accuracy\", lr_mn_accuracy)\n",
    "lr_mn_precision = lr_mn_tp/(lr_mn_tp+lr_mn_fp)\n",
    "lr_mn_recall = lr_mn_tp/(lr_mn_tp+lr_mn_fn)\n",
    "lr_mn_f1_score = (2*lr_mn_precision)*(lr_mn_recall)/(lr_mn_precision+lr_mn_recall)\n",
    "print(\" Precision\",lr_mn_precision,\"\\n\",\"Recall\",lr_mn_recall,\"\\n\",\"F1\",lr_mn_f1_score)"
   ]
  },
  {
   "cell_type": "code",
   "execution_count": 58,
   "id": "fc261d5c",
   "metadata": {},
   "outputs": [
    {
     "name": "stdout",
     "output_type": "stream",
     "text": [
      "0.798164222288736\n",
      " Accuracy 0.798164222288736\n",
      " Precision 0.7917722462363989 \n",
      " Recall 0.8945772987537891 \n",
      " F1 0.8400411164703091\n"
     ]
    }
   ],
   "source": [
    "clf = GradientBoostingClassifier(n_estimators=200, learning_rate=1.0, max_depth=1, random_state=0)\n",
    "clf.fit(X_train_bow, y_train)\n",
    "y_pred = clf.predict(X_test_bow)\n",
    "y_pred\n",
    "print(accuracy_score(y_test,y_pred))\n",
    "#Confusion Matrix\n",
    "lr_mn_tn, lr_mn_fp, lr_mn_fn, lr_mn_tp = confusion_matrix(y_test, y_pred).ravel()\n",
    "#measurements\n",
    "lr_mn_accuracy = (lr_mn_tp+lr_mn_tn)/(lr_mn_tp+lr_mn_tn+lr_mn_fp+lr_mn_fn)\n",
    "print(\" Accuracy\", lr_mn_accuracy)\n",
    "lr_mn_precision = lr_mn_tp/(lr_mn_tp+lr_mn_fp)\n",
    "lr_mn_recall = lr_mn_tp/(lr_mn_tp+lr_mn_fn)\n",
    "lr_mn_f1_score = (2*lr_mn_precision)*(lr_mn_recall)/(lr_mn_precision+lr_mn_recall)\n",
    "print(\" Precision\",lr_mn_precision,\"\\n\",\"Recall\",lr_mn_recall,\"\\n\",\"F1\",lr_mn_f1_score)"
   ]
  },
  {
   "cell_type": "code",
   "execution_count": 59,
   "id": "30bed2ae",
   "metadata": {},
   "outputs": [
    {
     "data": {
      "text/plain": [
       "array([0, 1, 1, ..., 1, 1, 1])"
      ]
     },
     "execution_count": 59,
     "metadata": {},
     "output_type": "execute_result"
    }
   ],
   "source": [
    "clf = GradientBoostingClassifier(n_estimators=300, learning_rate=1.0, max_depth=1, random_state=0)\n",
    "clf.fit(X_train_bow, y_train)\n",
    "y_pred = clf.predict(X_test_bow)\n",
    "y_pred"
   ]
  },
  {
   "cell_type": "code",
   "execution_count": 60,
   "id": "6b1485f7",
   "metadata": {},
   "outputs": [
    {
     "name": "stdout",
     "output_type": "stream",
     "text": [
      "0.8105357677342113\n",
      " Accuracy 0.8105357677342113\n",
      " Precision 0.8029098545072746 \n",
      " Recall 0.901481980464803 \n",
      " F1 0.849345497818326\n"
     ]
    }
   ],
   "source": [
    "from sklearn.metrics import accuracy_score,confusion_matrix\n",
    "print(accuracy_score(y_test,y_pred))\n",
    "#Confusion Matrix\n",
    "lr_mn_tn, lr_mn_fp, lr_mn_fn, lr_mn_tp = confusion_matrix(y_test, y_pred).ravel()\n",
    "#measurements\n",
    "lr_mn_accuracy = (lr_mn_tp+lr_mn_tn)/(lr_mn_tp+lr_mn_tn+lr_mn_fp+lr_mn_fn)\n",
    "print(\" Accuracy\", lr_mn_accuracy)\n",
    "lr_mn_precision = lr_mn_tp/(lr_mn_tp+lr_mn_fp)\n",
    "lr_mn_recall = lr_mn_tp/(lr_mn_tp+lr_mn_fn)\n",
    "lr_mn_f1_score = (2*lr_mn_precision)*(lr_mn_recall)/(lr_mn_precision+lr_mn_recall)\n",
    "print(\" Precision\",lr_mn_precision,\"\\n\",\"Recall\",lr_mn_recall,\"\\n\",\"F1\",lr_mn_f1_score)"
   ]
  },
  {
   "cell_type": "code",
   "execution_count": 61,
   "id": "97381117",
   "metadata": {},
   "outputs": [],
   "source": [
    "import pickle\n",
    "# save the model to disk\n",
    "filename = 'best GBC.pkl'\n",
    "pickle.dump(clf, open(filename, 'wb'))"
   ]
  },
  {
   "cell_type": "markdown",
   "id": "4cb41b75",
   "metadata": {},
   "source": [
    "# What if use all our best models to do a voting? Minimum 80 accuracy"
   ]
  },
  {
   "cell_type": "markdown",
   "id": "8788910b",
   "metadata": {},
   "source": [
    "## Voting Classifier <a class=\"anchor\" id=\"18-bullet\"></a>"
   ]
  },
  {
   "cell_type": "code",
   "execution_count": 49,
   "id": "c9bf0238",
   "metadata": {},
   "outputs": [],
   "source": [
    "from sklearn.ensemble import VotingClassifier\n",
    "from sklearn.naive_bayes import MultinomialNB\n",
    "from sklearn.linear_model import LogisticRegression\n",
    "from sklearn.svm import LinearSVC\n",
    "from sklearn.ensemble import GradientBoostingClassifier\n",
    "from sklearn.ensemble import RandomForestClassifier"
   ]
  },
  {
   "cell_type": "code",
   "execution_count": 55,
   "id": "432a125c",
   "metadata": {},
   "outputs": [],
   "source": [
    "eclf = VotingClassifier(estimators=[('clf', GradientBoostingClassifier(n_estimators=300, learning_rate=1.0, max_depth=1, random_state=0)), ('nb', MultinomialNB()), ('lr1', LogisticRegression(multi_class='ovr', C=0.2)),  ('svc', LinearSVC(random_state=0,C=0.055, max_iter=50000)),('rfc',RandomForestClassifier(max_depth=100, random_state=0))])"
   ]
  },
  {
   "cell_type": "code",
   "execution_count": 56,
   "id": "1fbbeef2",
   "metadata": {},
   "outputs": [
    {
     "data": {
      "text/plain": [
       "VotingClassifier(estimators=[('clf',\n",
       "                              GradientBoostingClassifier(learning_rate=1.0,\n",
       "                                                         max_depth=1,\n",
       "                                                         n_estimators=300,\n",
       "                                                         random_state=0)),\n",
       "                             ('nb', MultinomialNB()),\n",
       "                             ('lr1',\n",
       "                              LogisticRegression(C=0.2, multi_class='ovr')),\n",
       "                             ('svc',\n",
       "                              LinearSVC(C=0.055, max_iter=50000,\n",
       "                                        random_state=0)),\n",
       "                             ('rfc',\n",
       "                              RandomForestClassifier(max_depth=100,\n",
       "                                                     random_state=0))])"
      ]
     },
     "execution_count": 56,
     "metadata": {},
     "output_type": "execute_result"
    }
   ],
   "source": [
    "eclf.fit(X_train_bow, y_train)"
   ]
  },
  {
   "cell_type": "code",
   "execution_count": 57,
   "id": "f3567d79",
   "metadata": {},
   "outputs": [
    {
     "data": {
      "text/plain": [
       "array([0, 1, 1, ..., 1, 1, 1])"
      ]
     },
     "execution_count": 57,
     "metadata": {},
     "output_type": "execute_result"
    }
   ],
   "source": [
    "y_pred = eclf.predict(X_test_bow)\n",
    "y_pred"
   ]
  },
  {
   "cell_type": "code",
   "execution_count": 58,
   "id": "c035441a",
   "metadata": {},
   "outputs": [
    {
     "name": "stdout",
     "output_type": "stream",
     "text": [
      "0.823306395290831\n",
      " Accuracy 0.823306395290831\n",
      " Precision 0.8130728775356875 \n",
      " Recall 0.9112495789828226 \n",
      " F1 0.859366314619233\n"
     ]
    }
   ],
   "source": [
    "from sklearn.metrics import accuracy_score,confusion_matrix\n",
    "print(accuracy_score(y_test,y_pred))\n",
    "#Confusion Matrix\n",
    "lr_mn_tn, lr_mn_fp, lr_mn_fn, lr_mn_tp = confusion_matrix(y_test, y_pred).ravel()\n",
    "#measurements\n",
    "lr_mn_accuracy = (lr_mn_tp+lr_mn_tn)/(lr_mn_tp+lr_mn_tn+lr_mn_fp+lr_mn_fn)\n",
    "print(\" Accuracy\", lr_mn_accuracy)\n",
    "lr_mn_precision = lr_mn_tp/(lr_mn_tp+lr_mn_fp)\n",
    "lr_mn_recall = lr_mn_tp/(lr_mn_tp+lr_mn_fn)\n",
    "lr_mn_f1_score = (2*lr_mn_precision)*(lr_mn_recall)/(lr_mn_precision+lr_mn_recall)\n",
    "print(\" Precision\",lr_mn_precision,\"\\n\",\"Recall\",lr_mn_recall,\"\\n\",\"F1\",lr_mn_f1_score)"
   ]
  },
  {
   "cell_type": "code",
   "execution_count": 60,
   "id": "a68c7164",
   "metadata": {},
   "outputs": [],
   "source": [
    "import pickle\n",
    "# save the model to disk\n",
    "filename = 'best ensemble.pkl'\n",
    "pickle.dump(eclf, open(filename, 'wb'))"
   ]
  },
  {
   "cell_type": "markdown",
   "id": "5d74d844",
   "metadata": {},
   "source": [
    "## Model Selection <a class=\"anchor\" id=\"19-bullet\"></a>"
   ]
  },
  {
   "cell_type": "markdown",
   "id": "1cc11268",
   "metadata": {},
   "source": [
    "<b> So far our best model (in terms of f1) (Voting Classifier)  </b> <br>\n",
    " Accuracy 0.823306395290831 <Br>\n",
    " Precision 0.8130728775356875  <Br>\n",
    " Recall 0.9112495789828226  <Br>\n",
    " F1 0.859366314619233\n",
    "\n",
    "<b> Our second best model (in terms of f1) (Linear SVC) comes very close, having  </b> <br>\n",
    "Accuracy 0.8239050184575476 <br>\n",
    " Precision 0.8250506309393987 <br>\n",
    " Recall 0.8918827888177837 <br>\n",
    " F1 0.8571659787974427\n",
    "\n",
    "<b> Quick Calculation </b><br>\n",
    " A quick calculation tell us that our Voting Clasisfier model has  <b>0.002 F1 score higher </b>than our Linear SVC model. <br>\n",
    " Our Linear SVC model has  <b> 0.01 precision higher  </b>than our Voting Classifier model.\n",
    " \n",
    "<b> Our team decided to go with Linear SVC, the model with LOWER F1-score but HIGHER Precision </b> <br>\n",
    "    With F1 score of only 0.002 difference, we went with the Linear SVC that has a high precision, as explained below.\n",
    " \n",
    "As we learnt in class, when False Positive is costly, we look at precision. In our problem, False Positive is costly, because if we show children a negative video that is mis-labelled as positive, the consequences can be severe. Hence, given that F1 score difference is 0.002 but the Precision difference is 0.01, our team decided to go with the model with slightly lower F1 score but higher Precision.\n",
    "\n",
    "<b> Another Reason: Occam's Razor </b> <br>\n",
    "In addition, according to Occam's Razor (the Law of Briefness), given two models of similar generalization error/capability, we should use the simpler model over the more complex model, which in this case is Linear SVC as compared to Voting Classifier which uses several models combined into one. \n",
    "  <br>  \n",
    "    \n",
    "In short, we will <b> sacrifice 0.002 reduction in F1 score for 0.01 gain in precision </b> due to the use case  of our project, as well as LinearSVC is simpler and produce results of similar quality."
   ]
  },
  {
   "cell_type": "markdown",
   "id": "3ed93307",
   "metadata": {},
   "source": [
    "# Import saved models and test our work"
   ]
  },
  {
   "cell_type": "markdown",
   "id": "eed9ed0c",
   "metadata": {},
   "source": [
    "## Testing on new random data <a class=\"anchor\" id=\"20-bullet\"></a>"
   ]
  },
  {
   "cell_type": "markdown",
   "id": "2fd2d161",
   "metadata": {},
   "source": [
    "We need to run these minimally when we are testing new data from our existing models"
   ]
  },
  {
   "cell_type": "code",
   "execution_count": 4,
   "id": "76833ef8",
   "metadata": {},
   "outputs": [],
   "source": [
    "# load the model from disk\n",
    "import warnings\n",
    "warnings.filterwarnings('ignore')\n",
    "import pickle\n",
    "from sklearn.feature_extraction.text import CountVectorizer\n",
    "best_model = pickle.load(open('best SVC (selected model).pkl', 'rb'))\n",
    "cv = pickle.load(open('cv (selected).pickel', 'rb')) "
   ]
  },
  {
   "cell_type": "code",
   "execution_count": 5,
   "id": "d5747aa0",
   "metadata": {},
   "outputs": [],
   "source": [
    "def results(result):\n",
    "    if result[0]==0:\n",
    "        return 'positive'\n",
    "    if result[0]==1:\n",
    "        return 'negative'"
   ]
  },
  {
   "cell_type": "code",
   "execution_count": 48,
   "id": "7da1bb02",
   "metadata": {},
   "outputs": [],
   "source": [
    "text=[\"I am glad that I took Machine Learning\"]\n",
    "new_data=  pd.Series(text, copy=False)"
   ]
  },
  {
   "cell_type": "code",
   "execution_count": 49,
   "id": "0eb0ad66",
   "metadata": {},
   "outputs": [],
   "source": [
    "X_test_bow = cv.transform(new_data).toarray()"
   ]
  },
  {
   "cell_type": "code",
   "execution_count": 50,
   "id": "3bf1cf9e",
   "metadata": {},
   "outputs": [],
   "source": [
    "result = best_model.predict(X_test_bow)"
   ]
  },
  {
   "cell_type": "code",
   "execution_count": 51,
   "id": "87d37155",
   "metadata": {},
   "outputs": [
    {
     "name": "stdout",
     "output_type": "stream",
     "text": [
      "positive\n"
     ]
    }
   ],
   "source": [
    "print(results(result))"
   ]
  },
  {
   "cell_type": "code",
   "execution_count": 52,
   "id": "7683377d",
   "metadata": {},
   "outputs": [],
   "source": [
    "text=[\"Unfortunately, I failed my machine learning exams\"]\n",
    "new_data=  pd.Series(text, copy=False)"
   ]
  },
  {
   "cell_type": "code",
   "execution_count": 53,
   "id": "a69dde72",
   "metadata": {},
   "outputs": [],
   "source": [
    "X_test_bow = cv.transform(new_data).toarray()\n",
    "result = best_model.predict(X_test_bow)"
   ]
  },
  {
   "cell_type": "code",
   "execution_count": 54,
   "id": "da25350c",
   "metadata": {},
   "outputs": [
    {
     "name": "stdout",
     "output_type": "stream",
     "text": [
      "negative\n"
     ]
    }
   ],
   "source": [
    "print(results(result))"
   ]
  },
  {
   "cell_type": "code",
   "execution_count": null,
   "id": "f85972df",
   "metadata": {},
   "outputs": [],
   "source": []
  }
 ],
 "metadata": {
  "kernelspec": {
   "display_name": "Python 3 (ipykernel)",
   "language": "python",
   "name": "python3"
  },
  "language_info": {
   "codemirror_mode": {
    "name": "ipython",
    "version": 3
   },
   "file_extension": ".py",
   "mimetype": "text/x-python",
   "name": "python",
   "nbconvert_exporter": "python",
   "pygments_lexer": "ipython3",
   "version": "3.9.7"
  },
  "vscode": {
   "interpreter": {
    "hash": "54b5c02bac415170f398c1cb9c40d2712252a7d195ee8eb19ed147dda00b9728"
   }
  }
 },
 "nbformat": 4,
 "nbformat_minor": 5
}
